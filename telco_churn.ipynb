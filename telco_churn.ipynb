{
 "cells": [
  {
   "cell_type": "markdown",
   "metadata": {},
   "source": [
    "# İş Problemi"
   ]
  },
  {
   "attachments": {},
   "cell_type": "markdown",
   "metadata": {},
   "source": [
    "Şirketi terk edecek müşterileri tahmin edebilecek bir makine öğrenmesi modeli geliştirilmesi istenmektedir. Modeli geliştirmeden önce gerekli olan veri analizi ve özellik mühendisliği adımlarını gerçekleştirmeniz beklenmektedir."
   ]
  },
  {
   "attachments": {},
   "cell_type": "markdown",
   "metadata": {},
   "source": [
    "# Veri Seti Hikayesi\n"
   ]
  },
  {
   "attachments": {},
   "cell_type": "markdown",
   "metadata": {},
   "source": [
    "Telco müşteri kaybı verileri, üçüncü çeyrekte Kaliforniya'daki 7043 müşteriye ev telefonu ve İnternet hizmetleri sağlayan hayali bir telekom şirketi hakkında bilgi içerir. Hangi müşterilerin hizmetlerinden ayrıldığını, kaldığını veya hizmete kaydolduğunu gösterir."
   ]
  },
  {
   "cell_type": "code",
   "execution_count": 229,
   "metadata": {},
   "outputs": [],
   "source": [
    "# CustomerId : Müşteri İd’si\n",
    "# Gender : Cinsiyet\n",
    "# SeniorCitizen : Müşterinin yaşlı olup olmadığı (1, 0)\n",
    "# Partner : Müşterinin bir ortağı olup olmadığı (Evet, Hayır) ? Evli olup olmama\n",
    "# Dependents : Müşterinin bakmakla yükümlü olduğu kişiler olup olmadığı (Evet, Hayır) (Çocuk, anne, baba, büyükanne)\n",
    "# tenure : Müşterinin şirkette kaldığı ay sayısı\n",
    "# PhoneService : Müşterinin telefon hizmeti olup olmadığı (Evet, Hayır)\n",
    "# MultipleLines : Müşterinin birden fazla hattı olup olmadığı (Evet, Hayır, Telefon hizmeti yok)\n",
    "# InternetService : Müşterinin internet servis sağlayıcısı (DSL, Fiber optik, Hayır)\n",
    "# OnlineSecurity : Müşterinin çevrimiçi güvenliğinin olup olmadığı (Evet, Hayır, İnternet hizmeti yok)\n",
    "# OnlineBackup : Müşterinin online yedeğinin olup olmadığı (Evet, Hayır, İnternet hizmeti yok)\n",
    "# DeviceProtection : Müşterinin cihaz korumasına sahip olup olmadığı (Evet, Hayır, İnternet hizmeti yok)\n",
    "# TechSupport : Müşterinin teknik destek alıp almadığı (Evet, Hayır, İnternet hizmeti yok)\n",
    "# StreamingTV : Müşterinin TV yayını olup olmadığı (Evet, Hayır, İnternet hizmeti yok) Müşterinin, bir üçüncü taraf sağlayıcıdan televizyon programları yayınlamak için İnternet hizmetini kullanıp kullanmadığını gösterir\n",
    "# StreamingMovies : Müşterinin film akışı olup olmadığı (Evet, Hayır, İnternet hizmeti yok) Müşterinin bir üçüncü taraf sağlayıcıdan film akışı yapmak için İnternet hizmetini kullanıp kullanmadığını gösterir\n",
    "# Contract : Müşterinin sözleşme süresi (Aydan aya, Bir yıl, İki yıl)\n",
    "# PaperlessBilling : Müşterinin kağıtsız faturası olup olmadığı (Evet, Hayır)\n",
    "# PaymentMethod : Müşterinin ödeme yöntemi (Elektronik çek, Posta çeki, Banka havalesi (otomatik), Kredi kartı (otomatik))\n",
    "# MonthlyCharges : Müşteriden aylık olarak tahsil edilen tutar\n",
    "# TotalCharges : Müşteriden tahsil edilen toplam tutar\n",
    "# Churn : Müşterinin kullanıp kullanmadığı (Evet veya Hayır) - Geçen ay veya çeyreklik içerisinde ayrılan müşteriler\n",
    "\n",
    "\n",
    "# Her satır benzersiz bir müşteriyi temsil etmekte.\n",
    "# Değişkenler müşteri hizmetleri, hesap ve demografik veriler hakkında bilgiler içerir.\n",
    "# Müşterilerin kaydolduğu hizmetler - phone, multiple lines, internet, online security, online backup, device protection, tech support, and streaming TV and movies\n",
    "# Müşteri hesap bilgileri – ne kadar süredir müşteri oldukları, sözleşme, ödeme yöntemi, kağıtsız faturalandırma, aylık ücretler ve toplam ücretler\n",
    "# Müşteriler hakkında demografik bilgiler - cinsiyet, yaş aralığı ve ortakları ve bakmakla yükümlü oldukları kişiler olup olmadığı"
   ]
  },
  {
   "attachments": {},
   "cell_type": "markdown",
   "metadata": {},
   "source": [
    "# Görev 1: Keşifçi Veri Analizi"
   ]
  },
  {
   "attachments": {},
   "cell_type": "markdown",
   "metadata": {},
   "source": [
    "## Adım 1:\n",
    "Genel resmi inceleyiniz."
   ]
  },
  {
   "cell_type": "code",
   "execution_count": 230,
   "metadata": {},
   "outputs": [],
   "source": [
    "import numpy as np\n",
    "import pandas as pd\n",
    "import matplotlib.pyplot as plt\n",
    "import seaborn as sns\n",
    "from catboost import CatBoostClassifier\n",
    "from sklearn.metrics import accuracy_score, precision_score, recall_score, f1_score,roc_auc_score\n",
    "from sklearn.model_selection import train_test_split\n",
    "from sklearn.model_selection import GridSearchCV, cross_validate\n",
    "from sklearn.preprocessing import LabelEncoder\n",
    "from sklearn.preprocessing import StandardScaler\n",
    "import warnings\n",
    "warnings.simplefilter(action=\"ignore\")\n",
    "\n",
    "pd.set_option('display.max_columns', 200)\n",
    "pd.set_option('display.width', 170)\n",
    "pd.set_option('display.max_rows', None)\n",
    "pd.set_option('display.float_format', lambda x: '%.3f' % x)"
   ]
  },
  {
   "cell_type": "code",
   "execution_count": 231,
   "metadata": {},
   "outputs": [
    {
     "data": {
      "text/html": [
       "<div>\n",
       "<style scoped>\n",
       "    .dataframe tbody tr th:only-of-type {\n",
       "        vertical-align: middle;\n",
       "    }\n",
       "\n",
       "    .dataframe tbody tr th {\n",
       "        vertical-align: top;\n",
       "    }\n",
       "\n",
       "    .dataframe thead th {\n",
       "        text-align: right;\n",
       "    }\n",
       "</style>\n",
       "<table border=\"1\" class=\"dataframe\">\n",
       "  <thead>\n",
       "    <tr style=\"text-align: right;\">\n",
       "      <th></th>\n",
       "      <th>customerID</th>\n",
       "      <th>gender</th>\n",
       "      <th>SeniorCitizen</th>\n",
       "      <th>Partner</th>\n",
       "      <th>Dependents</th>\n",
       "      <th>tenure</th>\n",
       "      <th>PhoneService</th>\n",
       "      <th>MultipleLines</th>\n",
       "      <th>InternetService</th>\n",
       "      <th>OnlineSecurity</th>\n",
       "      <th>OnlineBackup</th>\n",
       "      <th>DeviceProtection</th>\n",
       "      <th>TechSupport</th>\n",
       "      <th>StreamingTV</th>\n",
       "      <th>StreamingMovies</th>\n",
       "      <th>Contract</th>\n",
       "      <th>PaperlessBilling</th>\n",
       "      <th>PaymentMethod</th>\n",
       "      <th>MonthlyCharges</th>\n",
       "      <th>TotalCharges</th>\n",
       "      <th>Churn</th>\n",
       "    </tr>\n",
       "  </thead>\n",
       "  <tbody>\n",
       "    <tr>\n",
       "      <th>0</th>\n",
       "      <td>7590-VHVEG</td>\n",
       "      <td>Female</td>\n",
       "      <td>0</td>\n",
       "      <td>Yes</td>\n",
       "      <td>No</td>\n",
       "      <td>1</td>\n",
       "      <td>No</td>\n",
       "      <td>No phone service</td>\n",
       "      <td>DSL</td>\n",
       "      <td>No</td>\n",
       "      <td>Yes</td>\n",
       "      <td>No</td>\n",
       "      <td>No</td>\n",
       "      <td>No</td>\n",
       "      <td>No</td>\n",
       "      <td>Month-to-month</td>\n",
       "      <td>Yes</td>\n",
       "      <td>Electronic check</td>\n",
       "      <td>29.850</td>\n",
       "      <td>29.85</td>\n",
       "      <td>No</td>\n",
       "    </tr>\n",
       "    <tr>\n",
       "      <th>1</th>\n",
       "      <td>5575-GNVDE</td>\n",
       "      <td>Male</td>\n",
       "      <td>0</td>\n",
       "      <td>No</td>\n",
       "      <td>No</td>\n",
       "      <td>34</td>\n",
       "      <td>Yes</td>\n",
       "      <td>No</td>\n",
       "      <td>DSL</td>\n",
       "      <td>Yes</td>\n",
       "      <td>No</td>\n",
       "      <td>Yes</td>\n",
       "      <td>No</td>\n",
       "      <td>No</td>\n",
       "      <td>No</td>\n",
       "      <td>One year</td>\n",
       "      <td>No</td>\n",
       "      <td>Mailed check</td>\n",
       "      <td>56.950</td>\n",
       "      <td>1889.5</td>\n",
       "      <td>No</td>\n",
       "    </tr>\n",
       "    <tr>\n",
       "      <th>2</th>\n",
       "      <td>3668-QPYBK</td>\n",
       "      <td>Male</td>\n",
       "      <td>0</td>\n",
       "      <td>No</td>\n",
       "      <td>No</td>\n",
       "      <td>2</td>\n",
       "      <td>Yes</td>\n",
       "      <td>No</td>\n",
       "      <td>DSL</td>\n",
       "      <td>Yes</td>\n",
       "      <td>Yes</td>\n",
       "      <td>No</td>\n",
       "      <td>No</td>\n",
       "      <td>No</td>\n",
       "      <td>No</td>\n",
       "      <td>Month-to-month</td>\n",
       "      <td>Yes</td>\n",
       "      <td>Mailed check</td>\n",
       "      <td>53.850</td>\n",
       "      <td>108.15</td>\n",
       "      <td>Yes</td>\n",
       "    </tr>\n",
       "    <tr>\n",
       "      <th>3</th>\n",
       "      <td>7795-CFOCW</td>\n",
       "      <td>Male</td>\n",
       "      <td>0</td>\n",
       "      <td>No</td>\n",
       "      <td>No</td>\n",
       "      <td>45</td>\n",
       "      <td>No</td>\n",
       "      <td>No phone service</td>\n",
       "      <td>DSL</td>\n",
       "      <td>Yes</td>\n",
       "      <td>No</td>\n",
       "      <td>Yes</td>\n",
       "      <td>Yes</td>\n",
       "      <td>No</td>\n",
       "      <td>No</td>\n",
       "      <td>One year</td>\n",
       "      <td>No</td>\n",
       "      <td>Bank transfer (automatic)</td>\n",
       "      <td>42.300</td>\n",
       "      <td>1840.75</td>\n",
       "      <td>No</td>\n",
       "    </tr>\n",
       "    <tr>\n",
       "      <th>4</th>\n",
       "      <td>9237-HQITU</td>\n",
       "      <td>Female</td>\n",
       "      <td>0</td>\n",
       "      <td>No</td>\n",
       "      <td>No</td>\n",
       "      <td>2</td>\n",
       "      <td>Yes</td>\n",
       "      <td>No</td>\n",
       "      <td>Fiber optic</td>\n",
       "      <td>No</td>\n",
       "      <td>No</td>\n",
       "      <td>No</td>\n",
       "      <td>No</td>\n",
       "      <td>No</td>\n",
       "      <td>No</td>\n",
       "      <td>Month-to-month</td>\n",
       "      <td>Yes</td>\n",
       "      <td>Electronic check</td>\n",
       "      <td>70.700</td>\n",
       "      <td>151.65</td>\n",
       "      <td>Yes</td>\n",
       "    </tr>\n",
       "  </tbody>\n",
       "</table>\n",
       "</div>"
      ],
      "text/plain": [
       "   customerID  gender  SeniorCitizen Partner Dependents  tenure PhoneService     MultipleLines InternetService OnlineSecurity OnlineBackup DeviceProtection TechSupport  \\\n",
       "0  7590-VHVEG  Female              0     Yes         No       1           No  No phone service             DSL             No          Yes               No          No   \n",
       "1  5575-GNVDE    Male              0      No         No      34          Yes                No             DSL            Yes           No              Yes          No   \n",
       "2  3668-QPYBK    Male              0      No         No       2          Yes                No             DSL            Yes          Yes               No          No   \n",
       "3  7795-CFOCW    Male              0      No         No      45           No  No phone service             DSL            Yes           No              Yes         Yes   \n",
       "4  9237-HQITU  Female              0      No         No       2          Yes                No     Fiber optic             No           No               No          No   \n",
       "\n",
       "  StreamingTV StreamingMovies        Contract PaperlessBilling              PaymentMethod  MonthlyCharges TotalCharges Churn  \n",
       "0          No              No  Month-to-month              Yes           Electronic check          29.850        29.85    No  \n",
       "1          No              No        One year               No               Mailed check          56.950       1889.5    No  \n",
       "2          No              No  Month-to-month              Yes               Mailed check          53.850       108.15   Yes  \n",
       "3          No              No        One year               No  Bank transfer (automatic)          42.300      1840.75    No  \n",
       "4          No              No  Month-to-month              Yes           Electronic check          70.700       151.65   Yes  "
      ]
     },
     "execution_count": 231,
     "metadata": {},
     "output_type": "execute_result"
    }
   ],
   "source": [
    "df = pd.read_csv('/Users/mericgenc/Desktop/Python - Data Science/Miuul Data Scientist Path/05 - Feature Engineering/00_datasets/Telco-Customer-Churn.csv')\n",
    "df.head()"
   ]
  },
  {
   "cell_type": "code",
   "execution_count": 232,
   "metadata": {},
   "outputs": [
    {
     "name": "stdout",
     "output_type": "stream",
     "text": [
      "<class 'pandas.core.frame.DataFrame'>\n",
      "RangeIndex: 7043 entries, 0 to 7042\n",
      "Data columns (total 21 columns):\n",
      " #   Column            Non-Null Count  Dtype  \n",
      "---  ------            --------------  -----  \n",
      " 0   customerID        7043 non-null   object \n",
      " 1   gender            7043 non-null   object \n",
      " 2   SeniorCitizen     7043 non-null   int64  \n",
      " 3   Partner           7043 non-null   object \n",
      " 4   Dependents        7043 non-null   object \n",
      " 5   tenure            7043 non-null   int64  \n",
      " 6   PhoneService      7043 non-null   object \n",
      " 7   MultipleLines     7043 non-null   object \n",
      " 8   InternetService   7043 non-null   object \n",
      " 9   OnlineSecurity    7043 non-null   object \n",
      " 10  OnlineBackup      7043 non-null   object \n",
      " 11  DeviceProtection  7043 non-null   object \n",
      " 12  TechSupport       7043 non-null   object \n",
      " 13  StreamingTV       7043 non-null   object \n",
      " 14  StreamingMovies   7043 non-null   object \n",
      " 15  Contract          7043 non-null   object \n",
      " 16  PaperlessBilling  7043 non-null   object \n",
      " 17  PaymentMethod     7043 non-null   object \n",
      " 18  MonthlyCharges    7043 non-null   float64\n",
      " 19  TotalCharges      7043 non-null   object \n",
      " 20  Churn             7043 non-null   object \n",
      "dtypes: float64(1), int64(2), object(18)\n",
      "memory usage: 1.1+ MB\n"
     ]
    }
   ],
   "source": [
    "df.info()"
   ]
  },
  {
   "cell_type": "code",
   "execution_count": 233,
   "metadata": {},
   "outputs": [],
   "source": [
    "# Total Charge object gözüküyor, numeric yapmalıyız\n",
    "df['TotalCharges'] = pd.to_numeric(df['TotalCharges'], errors='coerce')"
   ]
  },
  {
   "cell_type": "code",
   "execution_count": 234,
   "metadata": {},
   "outputs": [],
   "source": [
    "df['Churn'] = df['Churn'].apply(lambda x: 1 if x=='Yes' else 0)"
   ]
  },
  {
   "cell_type": "code",
   "execution_count": 235,
   "metadata": {},
   "outputs": [],
   "source": [
    "def check_df(dataframe, head=5):\n",
    "    print(\"##################### Shape #####################\")\n",
    "    print(dataframe.shape)\n",
    "    print(\"##################### Types #####################\")\n",
    "    print(dataframe.dtypes)\n",
    "    print(\"##################### Head #####################\")\n",
    "    print(dataframe.head(head))\n",
    "    print(\"##################### Tail #####################\")\n",
    "    print(dataframe.tail(head))\n",
    "    print(\"##################### NA #####################\")\n",
    "    print(dataframe.isnull().sum())\n",
    "    print(\"##################### Quantiles #####################\")\n",
    "    print(dataframe.quantile([0, 0.05, 0.50, 0.95, 0.99, 1]).T)"
   ]
  },
  {
   "cell_type": "code",
   "execution_count": 236,
   "metadata": {},
   "outputs": [
    {
     "name": "stdout",
     "output_type": "stream",
     "text": [
      "##################### Shape #####################\n",
      "(7043, 21)\n",
      "##################### Types #####################\n",
      "customerID           object\n",
      "gender               object\n",
      "SeniorCitizen         int64\n",
      "Partner              object\n",
      "Dependents           object\n",
      "tenure                int64\n",
      "PhoneService         object\n",
      "MultipleLines        object\n",
      "InternetService      object\n",
      "OnlineSecurity       object\n",
      "OnlineBackup         object\n",
      "DeviceProtection     object\n",
      "TechSupport          object\n",
      "StreamingTV          object\n",
      "StreamingMovies      object\n",
      "Contract             object\n",
      "PaperlessBilling     object\n",
      "PaymentMethod        object\n",
      "MonthlyCharges      float64\n",
      "TotalCharges        float64\n",
      "Churn                 int64\n",
      "dtype: object\n",
      "##################### Head #####################\n",
      "   customerID  gender  SeniorCitizen Partner Dependents  tenure PhoneService     MultipleLines InternetService OnlineSecurity OnlineBackup DeviceProtection TechSupport  \\\n",
      "0  7590-VHVEG  Female              0     Yes         No       1           No  No phone service             DSL             No          Yes               No          No   \n",
      "1  5575-GNVDE    Male              0      No         No      34          Yes                No             DSL            Yes           No              Yes          No   \n",
      "2  3668-QPYBK    Male              0      No         No       2          Yes                No             DSL            Yes          Yes               No          No   \n",
      "3  7795-CFOCW    Male              0      No         No      45           No  No phone service             DSL            Yes           No              Yes         Yes   \n",
      "4  9237-HQITU  Female              0      No         No       2          Yes                No     Fiber optic             No           No               No          No   \n",
      "\n",
      "  StreamingTV StreamingMovies        Contract PaperlessBilling              PaymentMethod  MonthlyCharges  TotalCharges  Churn  \n",
      "0          No              No  Month-to-month              Yes           Electronic check          29.850        29.850      0  \n",
      "1          No              No        One year               No               Mailed check          56.950      1889.500      0  \n",
      "2          No              No  Month-to-month              Yes               Mailed check          53.850       108.150      1  \n",
      "3          No              No        One year               No  Bank transfer (automatic)          42.300      1840.750      0  \n",
      "4          No              No  Month-to-month              Yes           Electronic check          70.700       151.650      1  \n",
      "##################### Tail #####################\n",
      "      customerID  gender  SeniorCitizen Partner Dependents  tenure PhoneService     MultipleLines InternetService OnlineSecurity OnlineBackup DeviceProtection  \\\n",
      "7038  6840-RESVB    Male              0     Yes        Yes      24          Yes               Yes             DSL            Yes           No              Yes   \n",
      "7039  2234-XADUH  Female              0     Yes        Yes      72          Yes               Yes     Fiber optic             No          Yes              Yes   \n",
      "7040  4801-JZAZL  Female              0     Yes        Yes      11           No  No phone service             DSL            Yes           No               No   \n",
      "7041  8361-LTMKD    Male              1     Yes         No       4          Yes               Yes     Fiber optic             No           No               No   \n",
      "7042  3186-AJIEK    Male              0      No         No      66          Yes                No     Fiber optic            Yes           No              Yes   \n",
      "\n",
      "     TechSupport StreamingTV StreamingMovies        Contract PaperlessBilling              PaymentMethod  MonthlyCharges  TotalCharges  Churn  \n",
      "7038         Yes         Yes             Yes        One year              Yes               Mailed check          84.800      1990.500      0  \n",
      "7039          No         Yes             Yes        One year              Yes    Credit card (automatic)         103.200      7362.900      0  \n",
      "7040          No          No              No  Month-to-month              Yes           Electronic check          29.600       346.450      0  \n",
      "7041          No          No              No  Month-to-month              Yes               Mailed check          74.400       306.600      1  \n",
      "7042         Yes         Yes             Yes        Two year              Yes  Bank transfer (automatic)         105.650      6844.500      0  \n",
      "##################### NA #####################\n",
      "customerID           0\n",
      "gender               0\n",
      "SeniorCitizen        0\n",
      "Partner              0\n",
      "Dependents           0\n",
      "tenure               0\n",
      "PhoneService         0\n",
      "MultipleLines        0\n",
      "InternetService      0\n",
      "OnlineSecurity       0\n",
      "OnlineBackup         0\n",
      "DeviceProtection     0\n",
      "TechSupport          0\n",
      "StreamingTV          0\n",
      "StreamingMovies      0\n",
      "Contract             0\n",
      "PaperlessBilling     0\n",
      "PaymentMethod        0\n",
      "MonthlyCharges       0\n",
      "TotalCharges        11\n",
      "Churn                0\n",
      "dtype: int64\n",
      "##################### Quantiles #####################\n",
      "                0.000  0.050    0.500    0.950    0.990    1.000\n",
      "SeniorCitizen   0.000  0.000    0.000    1.000    1.000    1.000\n",
      "tenure          0.000  1.000   29.000   72.000   72.000   72.000\n",
      "MonthlyCharges 18.250 19.650   70.350  107.400  114.729  118.750\n",
      "TotalCharges   18.800 49.605 1397.475 6923.590 8039.883 8684.800\n",
      "Churn           0.000  0.000    0.000    1.000    1.000    1.000\n"
     ]
    }
   ],
   "source": [
    "check_df(df)"
   ]
  },
  {
   "attachments": {},
   "cell_type": "markdown",
   "metadata": {},
   "source": [
    "## Adım 2:\n",
    "Numerik ve kategorik değişkenleri yakalayınız."
   ]
  },
  {
   "cell_type": "code",
   "execution_count": 237,
   "metadata": {},
   "outputs": [],
   "source": [
    "def grab_col_names(dataframe, cat_th=10, car_th=20):\n",
    "    \"\"\"\n",
    "\n",
    "    Veri setindeki kategorik, numerik ve kategorik fakat kardinal değişkenlerin isimlerini verir.\n",
    "    Not: Kategorik değişkenlerin içerisine numerik görünümlü kategorik değişkenler de dahildir.\n",
    "\n",
    "    Parameters\n",
    "    ------\n",
    "        dataframe: dataframe\n",
    "                Değişken isimleri alınmak istenilen dataframe\n",
    "        cat_th: int, optional\n",
    "                numerik fakat kategorik olan değişkenler için sınıf eşik değeri\n",
    "        car_th: int, optinal\n",
    "                kategorik fakat kardinal değişkenler için sınıf eşik değeri\n",
    "\n",
    "    Returns\n",
    "    ------\n",
    "        cat_cols: list\n",
    "                Kategorik değişken listesi\n",
    "        num_cols: list\n",
    "                Numerik değişken listesi\n",
    "        cat_but_car: list\n",
    "                Kategorik görünümlü kardinal değişken listesi\n",
    "\n",
    "    Examples\n",
    "    ------\n",
    "        import seaborn as sns\n",
    "        df = sns.load_dataset(\"iris\")\n",
    "        print(grab_col_names(df))\n",
    "\n",
    "\n",
    "    Notes\n",
    "    ------\n",
    "        cat_cols + num_cols + cat_but_car = toplam değişken sayısı\n",
    "        num_but_cat cat_cols'un içerisinde.\n",
    "        Return olan 3 liste toplamı toplam değişken sayısına eşittir: cat_cols + num_cols + cat_but_car = değişken sayısı\n",
    "\n",
    "    \"\"\"\n",
    "\n",
    "    # cat_cols, cat_but_car\n",
    "    cat_cols = [col for col in dataframe.columns if dataframe[col].dtypes == \"O\"]\n",
    "    num_but_cat = [col for col in dataframe.columns if dataframe[col].nunique() < cat_th and\n",
    "                   dataframe[col].dtypes != \"O\"]\n",
    "    cat_but_car = [col for col in dataframe.columns if dataframe[col].nunique() > car_th and\n",
    "                   dataframe[col].dtypes == \"O\"]\n",
    "    cat_cols = cat_cols + num_but_cat\n",
    "    cat_cols = [col for col in cat_cols if col not in cat_but_car]\n",
    "\n",
    "    # num_cols\n",
    "    num_cols = [col for col in dataframe.columns if dataframe[col].dtypes != \"O\"]\n",
    "    num_cols = [col for col in num_cols if col not in num_but_cat]\n",
    "\n",
    "    print(f\"Observations: {dataframe.shape[0]}\")\n",
    "    print(f\"Variables: {dataframe.shape[1]}\")\n",
    "    print(f'cat_cols: {len(cat_cols)}')\n",
    "    print(f'num_cols: {len(num_cols)}')\n",
    "    print(f'cat_but_car: {len(cat_but_car)}')\n",
    "    print(f'num_but_cat: {len(num_but_cat)}')\n",
    "    return cat_cols, num_cols, cat_but_car"
   ]
  },
  {
   "cell_type": "code",
   "execution_count": 238,
   "metadata": {},
   "outputs": [
    {
     "name": "stdout",
     "output_type": "stream",
     "text": [
      "Observations: 7043\n",
      "Variables: 21\n",
      "cat_cols: 17\n",
      "num_cols: 3\n",
      "cat_but_car: 1\n",
      "num_but_cat: 2\n"
     ]
    }
   ],
   "source": [
    "cat_cols, num_cols, cat_but_car = grab_col_names(df)"
   ]
  },
  {
   "cell_type": "code",
   "execution_count": 239,
   "metadata": {},
   "outputs": [
    {
     "data": {
      "text/plain": [
       "['gender',\n",
       " 'Partner',\n",
       " 'Dependents',\n",
       " 'PhoneService',\n",
       " 'MultipleLines',\n",
       " 'InternetService',\n",
       " 'OnlineSecurity',\n",
       " 'OnlineBackup',\n",
       " 'DeviceProtection',\n",
       " 'TechSupport',\n",
       " 'StreamingTV',\n",
       " 'StreamingMovies',\n",
       " 'Contract',\n",
       " 'PaperlessBilling',\n",
       " 'PaymentMethod',\n",
       " 'SeniorCitizen',\n",
       " 'Churn']"
      ]
     },
     "execution_count": 239,
     "metadata": {},
     "output_type": "execute_result"
    }
   ],
   "source": [
    "cat_cols"
   ]
  },
  {
   "cell_type": "code",
   "execution_count": 240,
   "metadata": {},
   "outputs": [
    {
     "data": {
      "text/plain": [
       "['tenure', 'MonthlyCharges', 'TotalCharges']"
      ]
     },
     "execution_count": 240,
     "metadata": {},
     "output_type": "execute_result"
    }
   ],
   "source": [
    "num_cols"
   ]
  },
  {
   "cell_type": "code",
   "execution_count": 241,
   "metadata": {},
   "outputs": [
    {
     "data": {
      "text/plain": [
       "['customerID']"
      ]
     },
     "execution_count": 241,
     "metadata": {},
     "output_type": "execute_result"
    }
   ],
   "source": [
    "cat_but_car"
   ]
  },
  {
   "attachments": {},
   "cell_type": "markdown",
   "metadata": {},
   "source": [
    "## Adım 3:\n",
    "Numerik ve kategorik değişkenlerin analizini yapınız."
   ]
  },
  {
   "cell_type": "code",
   "execution_count": 242,
   "metadata": {},
   "outputs": [],
   "source": [
    "# Kategorik değişken analizi\n",
    "def cat_summary(dataframe, col_name, plot=False):\n",
    "    print(pd.DataFrame({col_name: dataframe[col_name].value_counts(),\n",
    "                        \"Ratio\": 100 * dataframe[col_name].value_counts() / len(dataframe)}))\n",
    "    print(\"##########################################\")\n",
    "    if plot:\n",
    "        sns.countplot(x=dataframe[col_name], data=dataframe)\n",
    "        plt.show()"
   ]
  },
  {
   "cell_type": "code",
   "execution_count": 243,
   "metadata": {},
   "outputs": [
    {
     "data": {
      "text/plain": [
       "['gender',\n",
       " 'Partner',\n",
       " 'Dependents',\n",
       " 'PhoneService',\n",
       " 'MultipleLines',\n",
       " 'InternetService',\n",
       " 'OnlineSecurity',\n",
       " 'OnlineBackup',\n",
       " 'DeviceProtection',\n",
       " 'TechSupport',\n",
       " 'StreamingTV',\n",
       " 'StreamingMovies',\n",
       " 'Contract',\n",
       " 'PaperlessBilling',\n",
       " 'PaymentMethod',\n",
       " 'SeniorCitizen',\n",
       " 'Churn']"
      ]
     },
     "execution_count": 243,
     "metadata": {},
     "output_type": "execute_result"
    }
   ],
   "source": [
    "cat_cols"
   ]
  },
  {
   "cell_type": "code",
   "execution_count": 244,
   "metadata": {},
   "outputs": [
    {
     "name": "stdout",
     "output_type": "stream",
     "text": [
      "        gender  Ratio\n",
      "Male      3555 50.476\n",
      "Female    3488 49.524\n",
      "##########################################\n"
     ]
    },
    {
     "data": {
      "image/png": "[encoded data removed]",
      "text/plain": [
       "<Figure size 432x288 with 1 Axes>"
      ]
     },
     "metadata": {},
     "output_type": "display_data"
    },
    {
     "name": "stdout",
     "output_type": "stream",
     "text": [
      "     Partner  Ratio\n",
      "No      3641 51.697\n",
      "Yes     3402 48.303\n",
      "##########################################\n"
     ]
    },
    {
     "data": {
      "image/png": "[encoded data removed]",
      "text/plain": [
       "<Figure size 432x288 with 1 Axes>"
      ]
     },
     "metadata": {},
     "output_type": "display_data"
    },
    {
     "name": "stdout",
     "output_type": "stream",
     "text": [
      "     Dependents  Ratio\n",
      "No         4933 70.041\n",
      "Yes        2110 29.959\n",
      "##########################################\n"
     ]
    },
    {
     "data": {
      "image/png": "[encoded data removed]",
      "text/plain": [
       "<Figure size 432x288 with 1 Axes>"
      ]
     },
     "metadata": {},
     "output_type": "display_data"
    },
    {
     "name": "stdout",
     "output_type": "stream",
     "text": [
      "     PhoneService  Ratio\n",
      "Yes          6361 90.317\n",
      "No            682  9.683\n",
      "##########################################\n"
     ]
    },
    {
     "data": {
      "image/png": "[encoded data removed]",
      "text/plain": [
       "<Figure size 432x288 with 1 Axes>"
      ]
     },
     "metadata": {},
     "output_type": "display_data"
    },
    {
     "name": "stdout",
     "output_type": "stream",
     "text": [
      "                  MultipleLines  Ratio\n",
      "No                         3390 48.133\n",
      "Yes                        2971 42.184\n",
      "No phone service            682  9.683\n",
      "##########################################\n"
     ]
    },
    {
     "data": {
      "image/png": "[encoded data removed]",
      "text/plain": [
       "<Figure size 432x288 with 1 Axes>"
      ]
     },
     "metadata": {},
     "output_type": "display_data"
    },
    {
     "name": "stdout",
     "output_type": "stream",
     "text": [
      "             InternetService  Ratio\n",
      "Fiber optic             3096 43.959\n",
      "DSL                     2421 34.375\n",
      "No                      1526 21.667\n",
      "##########################################\n"
     ]
    },
    {
     "data": {
      "image/png": "[encoded data removed]",
      "text/plain": [
       "<Figure size 432x288 with 1 Axes>"
      ]
     },
     "metadata": {},
     "output_type": "display_data"
    },
    {
     "name": "stdout",
     "output_type": "stream",
     "text": [
      "                     OnlineSecurity  Ratio\n",
      "No                             3498 49.666\n",
      "Yes                            2019 28.667\n",
      "No internet service            1526 21.667\n",
      "##########################################\n"
     ]
    },
    {
     "data": {
      "image/png": "[encoded data removed]",
      "text/plain": [
       "<Figure size 432x288 with 1 Axes>"
      ]
     },
     "metadata": {},
     "output_type": "display_data"
    },
    {
     "name": "stdout",
     "output_type": "stream",
     "text": [
      "                     OnlineBackup  Ratio\n",
      "No                           3088 43.845\n",
      "Yes                          2429 34.488\n",
      "No internet service          1526 21.667\n",
      "##########################################\n"
     ]
    },
    {
     "data": {
      "image/png": "[encoded data removed]",
      "text/plain": [
       "<Figure size 432x288 with 1 Axes>"
      ]
     },
     "metadata": {},
     "output_type": "display_data"
    },
    {
     "name": "stdout",
     "output_type": "stream",
     "text": [
      "                     DeviceProtection  Ratio\n",
      "No                               3095 43.944\n",
      "Yes                              2422 34.389\n",
      "No internet service              1526 21.667\n",
      "##########################################\n"
     ]
    },
    {
     "data": {
      "image/png": "[encoded data removed]",
      "text/plain": [
       "<Figure size 432x288 with 1 Axes>"
      ]
     },
     "metadata": {},
     "output_type": "display_data"
    },
    {
     "name": "stdout",
     "output_type": "stream",
     "text": [
      "                     TechSupport  Ratio\n",
      "No                          3473 49.311\n",
      "Yes                         2044 29.022\n",
      "No internet service         1526 21.667\n",
      "##########################################\n"
     ]
    },
    {
     "data": {
      "image/png": "[encoded data removed]",
      "text/plain": [
       "<Figure size 432x288 with 1 Axes>"
      ]
     },
     "metadata": {},
     "output_type": "display_data"
    },
    {
     "name": "stdout",
     "output_type": "stream",
     "text": [
      "                     StreamingTV  Ratio\n",
      "No                          2810 39.898\n",
      "Yes                         2707 38.435\n",
      "No internet service         1526 21.667\n",
      "##########################################\n"
     ]
    },
    {
     "data": {
      "image/png": "[encoded data removed]",
      "text/plain": [
       "<Figure size 432x288 with 1 Axes>"
      ]
     },
     "metadata": {},
     "output_type": "display_data"
    },
    {
     "name": "stdout",
     "output_type": "stream",
     "text": [
      "                     StreamingMovies  Ratio\n",
      "No                              2785 39.543\n",
      "Yes                             2732 38.790\n",
      "No internet service             1526 21.667\n",
      "##########################################\n"
     ]
    },
    {
     "data": {
      "image/png": "[encoded data removed]",
      "text/plain": [
       "<Figure size 432x288 with 1 Axes>"
      ]
     },
     "metadata": {},
     "output_type": "display_data"
    },
    {
     "name": "stdout",
     "output_type": "stream",
     "text": [
      "                Contract  Ratio\n",
      "Month-to-month      3875 55.019\n",
      "Two year            1695 24.066\n",
      "One year            1473 20.914\n",
      "##########################################\n"
     ]
    },
    {
     "data": {
      "image/png": "[encoded data removed]",
      "text/plain": [
       "<Figure size 432x288 with 1 Axes>"
      ]
     },
     "metadata": {},
     "output_type": "display_data"
    },
    {
     "name": "stdout",
     "output_type": "stream",
     "text": [
      "     PaperlessBilling  Ratio\n",
      "Yes              4171 59.222\n",
      "No               2872 40.778\n",
      "##########################################\n"
     ]
    },
    {
     "data": {
      "image/png": "[encoded data removed]",
      "text/plain": [
       "<Figure size 432x288 with 1 Axes>"
      ]
     },
     "metadata": {},
     "output_type": "display_data"
    },
    {
     "name": "stdout",
     "output_type": "stream",
     "text": [
      "                           PaymentMethod  Ratio\n",
      "Electronic check                    2365 33.579\n",
      "Mailed check                        1612 22.888\n",
      "Bank transfer (automatic)           1544 21.922\n",
      "Credit card (automatic)             1522 21.610\n",
      "##########################################\n"
     ]
    },
    {
     "data": {
      "image/png": "[encoded data removed]",
      "text/plain": [
       "<Figure size 432x288 with 1 Axes>"
      ]
     },
     "metadata": {},
     "output_type": "display_data"
    },
    {
     "name": "stdout",
     "output_type": "stream",
     "text": [
      "   SeniorCitizen  Ratio\n",
      "0           5901 83.785\n",
      "1           1142 16.215\n",
      "##########################################\n"
     ]
    },
    {
     "data": {
      "image/png": "[encoded data removed]",
      "text/plain": [
       "<Figure size 432x288 with 1 Axes>"
      ]
     },
     "metadata": {},
     "output_type": "display_data"
    },
    {
     "name": "stdout",
     "output_type": "stream",
     "text": [
      "   Churn  Ratio\n",
      "0   5174 73.463\n",
      "1   1869 26.537\n",
      "##########################################\n"
     ]
    },
    {
     "data": {
      "image/png": "[encoded data removed]",
      "text/plain": [
       "<Figure size 432x288 with 1 Axes>"
      ]
     },
     "metadata": {},
     "output_type": "display_data"
    }
   ],
   "source": [
    "for col in cat_cols:\n",
    "    cat_summary(df, col, True)"
   ]
  },
  {
   "cell_type": "code",
   "execution_count": 245,
   "metadata": {},
   "outputs": [],
   "source": [
    "# Numerik değişken analizi\n",
    "def num_summary(dataframe, numerical_col, plot=False):\n",
    "    quantiles = [0.05, 0.10, 0.20, 0.30, 0.40, 0.50, 0.60, 0.70, 0.80, 0.90, 0.95, 0.99]\n",
    "    print(dataframe[numerical_col].describe(quantiles).T)\n",
    "\n",
    "    if plot:\n",
    "        dataframe[numerical_col].hist(bins=20)\n",
    "        plt.xlabel(numerical_col)\n",
    "        plt.title(numerical_col)\n",
    "        plt.show()"
   ]
  },
  {
   "cell_type": "code",
   "execution_count": 246,
   "metadata": {},
   "outputs": [
    {
     "data": {
      "text/plain": [
       "['tenure', 'MonthlyCharges', 'TotalCharges']"
      ]
     },
     "execution_count": 246,
     "metadata": {},
     "output_type": "execute_result"
    }
   ],
   "source": [
    "num_cols"
   ]
  },
  {
   "cell_type": "code",
   "execution_count": 247,
   "metadata": {},
   "outputs": [
    {
     "name": "stdout",
     "output_type": "stream",
     "text": [
      "count   7043.000\n",
      "mean      32.371\n",
      "std       24.559\n",
      "min        0.000\n",
      "5%         1.000\n",
      "10%        2.000\n",
      "20%        6.000\n",
      "30%       12.000\n",
      "40%       20.000\n",
      "50%       29.000\n",
      "60%       40.000\n",
      "70%       50.000\n",
      "80%       60.000\n",
      "90%       69.000\n",
      "95%       72.000\n",
      "99%       72.000\n",
      "max       72.000\n",
      "Name: tenure, dtype: float64\n"
     ]
    },
    {
     "data": {
      "image/png": "[encoded data removed]",
      "text/plain": [
       "<Figure size 432x288 with 1 Axes>"
      ]
     },
     "metadata": {},
     "output_type": "display_data"
    },
    {
     "name": "stdout",
     "output_type": "stream",
     "text": [
      "count   7043.000\n",
      "mean      64.762\n",
      "std       30.090\n",
      "min       18.250\n",
      "5%        19.650\n",
      "10%       20.050\n",
      "20%       25.050\n",
      "30%       45.850\n",
      "40%       58.830\n",
      "50%       70.350\n",
      "60%       79.100\n",
      "70%       85.500\n",
      "80%       94.250\n",
      "90%      102.600\n",
      "95%      107.400\n",
      "99%      114.729\n",
      "max      118.750\n",
      "Name: MonthlyCharges, dtype: float64\n"
     ]
    },
    {
     "data": {
      "image/png": "[encoded data removed]",
      "text/plain": [
       "<Figure size 432x288 with 1 Axes>"
      ]
     },
     "metadata": {},
     "output_type": "display_data"
    },
    {
     "name": "stdout",
     "output_type": "stream",
     "text": [
      "count   7032.000\n",
      "mean    2283.300\n",
      "std     2266.771\n",
      "min       18.800\n",
      "5%        49.605\n",
      "10%       84.600\n",
      "20%      267.070\n",
      "30%      551.995\n",
      "40%      944.170\n",
      "50%     1397.475\n",
      "60%     2048.950\n",
      "70%     3141.130\n",
      "80%     4475.410\n",
      "90%     5976.640\n",
      "95%     6923.590\n",
      "99%     8039.883\n",
      "max     8684.800\n",
      "Name: TotalCharges, dtype: float64\n"
     ]
    },
    {
     "data": {
      "image/png": "[encoded data removed]",
      "text/plain": [
       "<Figure size 432x288 with 1 Axes>"
      ]
     },
     "metadata": {},
     "output_type": "display_data"
    }
   ],
   "source": [
    "for col in num_cols:\n",
    "    num_summary(df, col, True)"
   ]
  },
  {
   "attachments": {},
   "cell_type": "markdown",
   "metadata": {},
   "source": [
    "## Adım 4:\n",
    "Hedef değişken analizi yapınız. (Kategorik değişkenlere göre hedef değişkenin ortalaması, hedef değişkene göre numerik değişkenlerin ortalaması)"
   ]
  },
  {
   "cell_type": "code",
   "execution_count": 248,
   "metadata": {},
   "outputs": [],
   "source": [
    "def target_summary_with_cat(dataframe, target, categorical_col):\n",
    "    print(categorical_col)\n",
    "    print(pd.DataFrame({\"TARGET_MEAN\": dataframe.groupby(categorical_col)[target].mean(),\n",
    "                        \"Count\": dataframe[categorical_col].value_counts(),\n",
    "                        \"Ratio\": 100 * dataframe[categorical_col].value_counts() / len(dataframe)}), end=\"\\n\\n\\n\")"
   ]
  },
  {
   "cell_type": "code",
   "execution_count": 249,
   "metadata": {},
   "outputs": [
    {
     "data": {
      "text/plain": [
       "['gender',\n",
       " 'Partner',\n",
       " 'Dependents',\n",
       " 'PhoneService',\n",
       " 'MultipleLines',\n",
       " 'InternetService',\n",
       " 'OnlineSecurity',\n",
       " 'OnlineBackup',\n",
       " 'DeviceProtection',\n",
       " 'TechSupport',\n",
       " 'StreamingTV',\n",
       " 'StreamingMovies',\n",
       " 'Contract',\n",
       " 'PaperlessBilling',\n",
       " 'PaymentMethod',\n",
       " 'SeniorCitizen',\n",
       " 'Churn']"
      ]
     },
     "execution_count": 249,
     "metadata": {},
     "output_type": "execute_result"
    }
   ],
   "source": [
    "cat_cols"
   ]
  },
  {
   "cell_type": "code",
   "execution_count": 250,
   "metadata": {},
   "outputs": [
    {
     "name": "stdout",
     "output_type": "stream",
     "text": [
      "gender\n",
      "        TARGET_MEAN  Count  Ratio\n",
      "Female        0.269   3488 49.524\n",
      "Male          0.262   3555 50.476\n",
      "\n",
      "\n",
      "Partner\n",
      "     TARGET_MEAN  Count  Ratio\n",
      "No         0.330   3641 51.697\n",
      "Yes        0.197   3402 48.303\n",
      "\n",
      "\n",
      "Dependents\n",
      "     TARGET_MEAN  Count  Ratio\n",
      "No         0.313   4933 70.041\n",
      "Yes        0.155   2110 29.959\n",
      "\n",
      "\n",
      "PhoneService\n",
      "     TARGET_MEAN  Count  Ratio\n",
      "No         0.249    682  9.683\n",
      "Yes        0.267   6361 90.317\n",
      "\n",
      "\n",
      "MultipleLines\n",
      "                  TARGET_MEAN  Count  Ratio\n",
      "No                      0.250   3390 48.133\n",
      "No phone service        0.249    682  9.683\n",
      "Yes                     0.286   2971 42.184\n",
      "\n",
      "\n",
      "InternetService\n",
      "             TARGET_MEAN  Count  Ratio\n",
      "DSL                0.190   2421 34.375\n",
      "Fiber optic        0.419   3096 43.959\n",
      "No                 0.074   1526 21.667\n",
      "\n",
      "\n",
      "OnlineSecurity\n",
      "                     TARGET_MEAN  Count  Ratio\n",
      "No                         0.418   3498 49.666\n",
      "No internet service        0.074   1526 21.667\n",
      "Yes                        0.146   2019 28.667\n",
      "\n",
      "\n",
      "OnlineBackup\n",
      "                     TARGET_MEAN  Count  Ratio\n",
      "No                         0.399   3088 43.845\n",
      "No internet service        0.074   1526 21.667\n",
      "Yes                        0.215   2429 34.488\n",
      "\n",
      "\n",
      "DeviceProtection\n",
      "                     TARGET_MEAN  Count  Ratio\n",
      "No                         0.391   3095 43.944\n",
      "No internet service        0.074   1526 21.667\n",
      "Yes                        0.225   2422 34.389\n",
      "\n",
      "\n",
      "TechSupport\n",
      "                     TARGET_MEAN  Count  Ratio\n",
      "No                         0.416   3473 49.311\n",
      "No internet service        0.074   1526 21.667\n",
      "Yes                        0.152   2044 29.022\n",
      "\n",
      "\n",
      "StreamingTV\n",
      "                     TARGET_MEAN  Count  Ratio\n",
      "No                         0.335   2810 39.898\n",
      "No internet service        0.074   1526 21.667\n",
      "Yes                        0.301   2707 38.435\n",
      "\n",
      "\n",
      "StreamingMovies\n",
      "                     TARGET_MEAN  Count  Ratio\n",
      "No                         0.337   2785 39.543\n",
      "No internet service        0.074   1526 21.667\n",
      "Yes                        0.299   2732 38.790\n",
      "\n",
      "\n",
      "Contract\n",
      "                TARGET_MEAN  Count  Ratio\n",
      "Month-to-month        0.427   3875 55.019\n",
      "One year              0.113   1473 20.914\n",
      "Two year              0.028   1695 24.066\n",
      "\n",
      "\n",
      "PaperlessBilling\n",
      "     TARGET_MEAN  Count  Ratio\n",
      "No         0.163   2872 40.778\n",
      "Yes        0.336   4171 59.222\n",
      "\n",
      "\n",
      "PaymentMethod\n",
      "                           TARGET_MEAN  Count  Ratio\n",
      "Bank transfer (automatic)        0.167   1544 21.922\n",
      "Credit card (automatic)          0.152   1522 21.610\n",
      "Electronic check                 0.453   2365 33.579\n",
      "Mailed check                     0.191   1612 22.888\n",
      "\n",
      "\n",
      "SeniorCitizen\n",
      "   TARGET_MEAN  Count  Ratio\n",
      "0        0.236   5901 83.785\n",
      "1        0.417   1142 16.215\n",
      "\n",
      "\n",
      "Churn\n",
      "   TARGET_MEAN  Count  Ratio\n",
      "0        0.000   5174 73.463\n",
      "1        1.000   1869 26.537\n",
      "\n",
      "\n"
     ]
    }
   ],
   "source": [
    "for col in cat_cols:\n",
    "    target_summary_with_cat(df, \"Churn\", col)"
   ]
  },
  {
   "cell_type": "code",
   "execution_count": 251,
   "metadata": {},
   "outputs": [
    {
     "data": {
      "text/plain": [
       "['tenure', 'MonthlyCharges', 'TotalCharges']"
      ]
     },
     "execution_count": 251,
     "metadata": {},
     "output_type": "execute_result"
    }
   ],
   "source": [
    "num_cols"
   ]
  },
  {
   "cell_type": "code",
   "execution_count": 252,
   "metadata": {},
   "outputs": [],
   "source": [
    "def target_summary_with_num(dataframe, target, numerical_col):\n",
    "    print(dataframe.groupby(target).agg({numerical_col: \"mean\"}), end='\\n\\n\\n')"
   ]
  },
  {
   "cell_type": "code",
   "execution_count": 253,
   "metadata": {},
   "outputs": [
    {
     "name": "stdout",
     "output_type": "stream",
     "text": [
      "       tenure\n",
      "Churn        \n",
      "0      37.570\n",
      "1      17.979\n",
      "\n",
      "\n",
      "       MonthlyCharges\n",
      "Churn                \n",
      "0              61.265\n",
      "1              74.441\n",
      "\n",
      "\n",
      "       TotalCharges\n",
      "Churn              \n",
      "0          2555.344\n",
      "1          1531.796\n",
      "\n",
      "\n"
     ]
    }
   ],
   "source": [
    "for col in num_cols:\n",
    "    target_summary_with_num(df, \"Churn\", col)"
   ]
  },
  {
   "attachments": {},
   "cell_type": "markdown",
   "metadata": {},
   "source": [
    "## Adım 5:\n",
    "Aykırı gözlem analizi yapınız."
   ]
  },
  {
   "cell_type": "code",
   "execution_count": 254,
   "metadata": {},
   "outputs": [],
   "source": [
    "def outlier_thresholds(dataframe, col_name, q1=0.05, q3=0.95):\n",
    "    quartile1 = dataframe[col_name].quantile(q1)\n",
    "    quartile3 = dataframe[col_name].quantile(q3)\n",
    "    interquantile_range = quartile3 - quartile1\n",
    "    up_limit = quartile3 + 1.5 * interquantile_range\n",
    "    low_limit = quartile1 - 1.5 * interquantile_range\n",
    "    return low_limit, up_limit\n",
    "\n",
    "def check_outlier(dataframe, col_name):\n",
    "    low_limit, up_limit = outlier_thresholds(dataframe, col_name)\n",
    "    if dataframe[(dataframe[col_name] > up_limit) | (dataframe[col_name] < low_limit)].any(axis=None):\n",
    "        return True\n",
    "    else:\n",
    "        return False"
   ]
  },
  {
   "cell_type": "code",
   "execution_count": 255,
   "metadata": {},
   "outputs": [
    {
     "data": {
      "text/plain": [
       "['tenure', 'MonthlyCharges', 'TotalCharges']"
      ]
     },
     "execution_count": 255,
     "metadata": {},
     "output_type": "execute_result"
    }
   ],
   "source": [
    "num_cols"
   ]
  },
  {
   "cell_type": "code",
   "execution_count": 256,
   "metadata": {},
   "outputs": [
    {
     "name": "stdout",
     "output_type": "stream",
     "text": [
      "tenure False\n",
      "MonthlyCharges False\n",
      "TotalCharges False\n"
     ]
    }
   ],
   "source": [
    "for col in num_cols:\n",
    "    print(col, check_outlier(df, col))"
   ]
  },
  {
   "attachments": {},
   "cell_type": "markdown",
   "metadata": {},
   "source": [
    "## Adım 6:\n",
    "Eksik gözlem analizi yapınız."
   ]
  },
  {
   "cell_type": "code",
   "execution_count": 257,
   "metadata": {},
   "outputs": [
    {
     "data": {
      "text/plain": [
       "customerID           0\n",
       "gender               0\n",
       "SeniorCitizen        0\n",
       "Partner              0\n",
       "Dependents           0\n",
       "tenure               0\n",
       "PhoneService         0\n",
       "MultipleLines        0\n",
       "InternetService      0\n",
       "OnlineSecurity       0\n",
       "OnlineBackup         0\n",
       "DeviceProtection     0\n",
       "TechSupport          0\n",
       "StreamingTV          0\n",
       "StreamingMovies      0\n",
       "Contract             0\n",
       "PaperlessBilling     0\n",
       "PaymentMethod        0\n",
       "MonthlyCharges       0\n",
       "TotalCharges        11\n",
       "Churn                0\n",
       "dtype: int64"
      ]
     },
     "execution_count": 257,
     "metadata": {},
     "output_type": "execute_result"
    }
   ],
   "source": [
    "df.isnull().sum()"
   ]
  },
  {
   "attachments": {},
   "cell_type": "markdown",
   "metadata": {},
   "source": [
    "## Adım 7:\n",
    "Korelasyon analizi yapınız."
   ]
  },
  {
   "cell_type": "code",
   "execution_count": 258,
   "metadata": {},
   "outputs": [
    {
     "data": {
      "text/html": [
       "<div>\n",
       "<style scoped>\n",
       "    .dataframe tbody tr th:only-of-type {\n",
       "        vertical-align: middle;\n",
       "    }\n",
       "\n",
       "    .dataframe tbody tr th {\n",
       "        vertical-align: top;\n",
       "    }\n",
       "\n",
       "    .dataframe thead th {\n",
       "        text-align: right;\n",
       "    }\n",
       "</style>\n",
       "<table border=\"1\" class=\"dataframe\">\n",
       "  <thead>\n",
       "    <tr style=\"text-align: right;\">\n",
       "      <th></th>\n",
       "      <th>tenure</th>\n",
       "      <th>MonthlyCharges</th>\n",
       "      <th>TotalCharges</th>\n",
       "    </tr>\n",
       "  </thead>\n",
       "  <tbody>\n",
       "    <tr>\n",
       "      <th>tenure</th>\n",
       "      <td>1.000</td>\n",
       "      <td>0.248</td>\n",
       "      <td>0.826</td>\n",
       "    </tr>\n",
       "    <tr>\n",
       "      <th>MonthlyCharges</th>\n",
       "      <td>0.248</td>\n",
       "      <td>1.000</td>\n",
       "      <td>0.651</td>\n",
       "    </tr>\n",
       "    <tr>\n",
       "      <th>TotalCharges</th>\n",
       "      <td>0.826</td>\n",
       "      <td>0.651</td>\n",
       "      <td>1.000</td>\n",
       "    </tr>\n",
       "  </tbody>\n",
       "</table>\n",
       "</div>"
      ],
      "text/plain": [
       "                tenure  MonthlyCharges  TotalCharges\n",
       "tenure           1.000           0.248         0.826\n",
       "MonthlyCharges   0.248           1.000         0.651\n",
       "TotalCharges     0.826           0.651         1.000"
      ]
     },
     "execution_count": 258,
     "metadata": {},
     "output_type": "execute_result"
    }
   ],
   "source": [
    "df[num_cols].corr()"
   ]
  },
  {
   "cell_type": "code",
   "execution_count": 259,
   "metadata": {},
   "outputs": [
    {
     "data": {
      "image/png": "[encoded data removed]",
      "text/plain": [
       "<Figure size 1296x936 with 2 Axes>"
      ]
     },
     "metadata": {},
     "output_type": "display_data"
    }
   ],
   "source": [
    "# Korelasyon Matrisi\n",
    "f, ax = plt.subplots(figsize=[18, 13])\n",
    "sns.heatmap(df[num_cols].corr(), annot=True, fmt=\".2f\", ax=ax, cmap=\"magma\")\n",
    "ax.set_title(\"Correlation Matrix\", fontsize=20)\n",
    "plt.show()"
   ]
  },
  {
   "cell_type": "code",
   "execution_count": 260,
   "metadata": {},
   "outputs": [],
   "source": [
    "# Tenure ve Charges verilerinin korele olması çok normal"
   ]
  },
  {
   "cell_type": "code",
   "execution_count": 261,
   "metadata": {},
   "outputs": [
    {
     "data": {
      "text/plain": [
       "Churn             1.000\n",
       "MonthlyCharges    0.193\n",
       "SeniorCitizen     0.151\n",
       "TotalCharges     -0.199\n",
       "tenure           -0.352\n",
       "dtype: float64"
      ]
     },
     "execution_count": 261,
     "metadata": {},
     "output_type": "execute_result"
    }
   ],
   "source": [
    "df.corrwith(df[\"Churn\"]).sort_values(ascending=False)"
   ]
  },
  {
   "attachments": {},
   "cell_type": "markdown",
   "metadata": {},
   "source": [
    "# Görev 2: Feature Engineering"
   ]
  },
  {
   "attachments": {},
   "cell_type": "markdown",
   "metadata": {},
   "source": [
    "## Adım 1:\n",
    "Eksik ve aykırı gözlemler için gerekli işlemleri yapınız."
   ]
  },
  {
   "attachments": {},
   "cell_type": "markdown",
   "metadata": {},
   "source": [
    "### 1.1 Missing Value Analizi"
   ]
  },
  {
   "cell_type": "code",
   "execution_count": 262,
   "metadata": {},
   "outputs": [
    {
     "data": {
      "text/plain": [
       "customerID           0\n",
       "gender               0\n",
       "SeniorCitizen        0\n",
       "Partner              0\n",
       "Dependents           0\n",
       "tenure               0\n",
       "PhoneService         0\n",
       "MultipleLines        0\n",
       "InternetService      0\n",
       "OnlineSecurity       0\n",
       "OnlineBackup         0\n",
       "DeviceProtection     0\n",
       "TechSupport          0\n",
       "StreamingTV          0\n",
       "StreamingMovies      0\n",
       "Contract             0\n",
       "PaperlessBilling     0\n",
       "PaymentMethod        0\n",
       "MonthlyCharges       0\n",
       "TotalCharges        11\n",
       "Churn                0\n",
       "dtype: int64"
      ]
     },
     "execution_count": 262,
     "metadata": {},
     "output_type": "execute_result"
    }
   ],
   "source": [
    "df.isnull().sum()"
   ]
  },
  {
   "cell_type": "code",
   "execution_count": 263,
   "metadata": {},
   "outputs": [],
   "source": [
    "df[\"TotalCharges\"].fillna(df[\"TotalCharges\"].median(), inplace=True)"
   ]
  },
  {
   "cell_type": "code",
   "execution_count": 264,
   "metadata": {},
   "outputs": [
    {
     "data": {
      "text/plain": [
       "customerID          0\n",
       "gender              0\n",
       "SeniorCitizen       0\n",
       "Partner             0\n",
       "Dependents          0\n",
       "tenure              0\n",
       "PhoneService        0\n",
       "MultipleLines       0\n",
       "InternetService     0\n",
       "OnlineSecurity      0\n",
       "OnlineBackup        0\n",
       "DeviceProtection    0\n",
       "TechSupport         0\n",
       "StreamingTV         0\n",
       "StreamingMovies     0\n",
       "Contract            0\n",
       "PaperlessBilling    0\n",
       "PaymentMethod       0\n",
       "MonthlyCharges      0\n",
       "TotalCharges        0\n",
       "Churn               0\n",
       "dtype: int64"
      ]
     },
     "execution_count": 264,
     "metadata": {},
     "output_type": "execute_result"
    }
   ],
   "source": [
    "df.isnull().sum()"
   ]
  },
  {
   "attachments": {},
   "cell_type": "markdown",
   "metadata": {},
   "source": [
    "### Feature Engineering'i tamamlamadan Base Model başarımızı ölçelim"
   ]
  },
  {
   "cell_type": "code",
   "execution_count": 265,
   "metadata": {},
   "outputs": [
    {
     "data": {
      "text/plain": [
       "['gender',\n",
       " 'Partner',\n",
       " 'Dependents',\n",
       " 'PhoneService',\n",
       " 'MultipleLines',\n",
       " 'InternetService',\n",
       " 'OnlineSecurity',\n",
       " 'OnlineBackup',\n",
       " 'DeviceProtection',\n",
       " 'TechSupport',\n",
       " 'StreamingTV',\n",
       " 'StreamingMovies',\n",
       " 'Contract',\n",
       " 'PaperlessBilling',\n",
       " 'PaymentMethod',\n",
       " 'SeniorCitizen']"
      ]
     },
     "execution_count": 265,
     "metadata": {},
     "output_type": "execute_result"
    }
   ],
   "source": [
    "dff = df.copy()\n",
    "cat_cols = [col for col in cat_cols if col not in [\"Churn\"]]\n",
    "cat_cols"
   ]
  },
  {
   "cell_type": "code",
   "execution_count": 266,
   "metadata": {},
   "outputs": [],
   "source": [
    "def one_hot_encoder(dataframe, categorical_cols, drop_first=False):\n",
    "    dataframe = pd.get_dummies(dataframe, columns=categorical_cols, drop_first=drop_first)\n",
    "    return dataframe\n",
    "dff = one_hot_encoder(dff, cat_cols, drop_first=True)"
   ]
  },
  {
   "cell_type": "code",
   "execution_count": 267,
   "metadata": {},
   "outputs": [
    {
     "name": "stdout",
     "output_type": "stream",
     "text": [
      "Accuracy: 0.7847\n",
      "Recall: 0.6331\n",
      "Precision: 0.493\n",
      "F1: 0.5544\n",
      "Auc: 0.7292\n"
     ]
    }
   ],
   "source": [
    "y = dff[\"Churn\"]\n",
    "X = dff.drop([\"Churn\",\"customerID\"], axis=1)\n",
    "\n",
    "X_train, X_test, y_train, y_test = train_test_split(X, y, test_size=0.30, random_state=17)\n",
    "\n",
    "catboost_model = CatBoostClassifier(verbose=False, random_state=12345).fit(X_train, y_train)\n",
    "y_pred = catboost_model.predict(X_test)\n",
    "\n",
    "\n",
    "print(f\"Accuracy: {round(accuracy_score(y_pred, y_test), 4)}\")\n",
    "print(f\"Recall: {round(recall_score(y_pred,y_test),4)}\")\n",
    "print(f\"Precision: {round(precision_score(y_pred,y_test), 4)}\")\n",
    "print(f\"F1: {round(f1_score(y_pred,y_test), 4)}\")\n",
    "print(f\"Auc: {round(roc_auc_score(y_pred,y_test), 4)}\")"
   ]
  },
  {
   "attachments": {},
   "cell_type": "markdown",
   "metadata": {},
   "source": [
    "### 1.2. Outlier Analizi"
   ]
  },
  {
   "cell_type": "code",
   "execution_count": 268,
   "metadata": {},
   "outputs": [],
   "source": [
    "def outlier_thresholds(dataframe, col_name, q1=0.05, q3=0.95):\n",
    "    quartile1 = dataframe[col_name].quantile(q1)\n",
    "    quartile3 = dataframe[col_name].quantile(q3)\n",
    "    interquantile_range = quartile3 - quartile1\n",
    "    up_limit = quartile3 + 1.5 * interquantile_range\n",
    "    low_limit = quartile1 - 1.5 * interquantile_range\n",
    "    return low_limit, up_limit"
   ]
  },
  {
   "cell_type": "code",
   "execution_count": 269,
   "metadata": {},
   "outputs": [],
   "source": [
    "def check_outlier(dataframe, col_name):\n",
    "    low_limit, up_limit = outlier_thresholds(dataframe, col_name)\n",
    "    if dataframe[(dataframe[col_name] > up_limit) | (dataframe[col_name] < low_limit)].any(axis=None):\n",
    "        return True\n",
    "    else:\n",
    "        return False"
   ]
  },
  {
   "cell_type": "code",
   "execution_count": 270,
   "metadata": {},
   "outputs": [],
   "source": [
    "def replace_with_thresholds(dataframe, variable, q1=0.05, q3=0.95):\n",
    "    low_limit, up_limit = outlier_thresholds(dataframe, variable, q1=0.05, q3=0.95)\n",
    "    dataframe.loc[(dataframe[variable] < low_limit), variable] = low_limit\n",
    "    dataframe.loc[(dataframe[variable] > up_limit), variable] = up_limit"
   ]
  },
  {
   "cell_type": "code",
   "execution_count": 271,
   "metadata": {},
   "outputs": [
    {
     "name": "stdout",
     "output_type": "stream",
     "text": [
      "tenure False\n",
      "MonthlyCharges False\n",
      "TotalCharges False\n"
     ]
    }
   ],
   "source": [
    "for col in num_cols:\n",
    "    print(col, check_outlier(df, col))\n",
    "    if check_outlier(df, col):\n",
    "        replace_with_thresholds(df, col)"
   ]
  },
  {
   "attachments": {},
   "cell_type": "markdown",
   "metadata": {},
   "source": [
    "## Adım 2:\n",
    "Yeni değişkenler oluşturunuz."
   ]
  },
  {
   "cell_type": "code",
   "execution_count": 272,
   "metadata": {},
   "outputs": [],
   "source": [
    "# Tenure  değişkeninden yıllık kategorik değişken oluşturma\n",
    "df.loc[(df[\"tenure\"]>=0) & (df[\"tenure\"]<=12),\"NEW_TENURE_YEAR\"] = \"0-1 Year\"\n",
    "df.loc[(df[\"tenure\"]>12) & (df[\"tenure\"]<=24),\"NEW_TENURE_YEAR\"] = \"1-2 Year\"\n",
    "df.loc[(df[\"tenure\"]>24) & (df[\"tenure\"]<=36),\"NEW_TENURE_YEAR\"] = \"2-3 Year\"\n",
    "df.loc[(df[\"tenure\"]>36) & (df[\"tenure\"]<=48),\"NEW_TENURE_YEAR\"] = \"3-4 Year\"\n",
    "df.loc[(df[\"tenure\"]>48) & (df[\"tenure\"]<=60),\"NEW_TENURE_YEAR\"] = \"4-5 Year\"\n",
    "df.loc[(df[\"tenure\"]>60) & (df[\"tenure\"]<=72),\"NEW_TENURE_YEAR\"] = \"5-6 Year\"\n",
    "\n",
    "\n",
    "# Kontratı 1 veya 2 yıllık müşterileri Engaged olarak belirtme\n",
    "df[\"NEW_Engaged\"] = df[\"Contract\"].apply(lambda x: 1 if x in [\"One year\",\"Two year\"] else 0)\n",
    "\n",
    "# Herhangi bir destek, yedek veya koruma almayan kişiler\n",
    "df[\"NEW_noProt\"] = df.apply(lambda x: 1 if (x[\"OnlineBackup\"] != \"Yes\") or (x[\"DeviceProtection\"] != \"Yes\") or (x[\"TechSupport\"] != \"Yes\") else 0, axis=1)\n",
    "\n",
    "# Aylık sözleşmesi bulunan ve genç olan müşteriler\n",
    "df[\"NEW_Young_Not_Engaged\"] = df.apply(lambda x: 1 if (x[\"NEW_Engaged\"] == 0) and (x[\"SeniorCitizen\"] == 0) else 0, axis=1)\n",
    "\n",
    "\n",
    "# Kişinin toplam aldığı servis sayısı\n",
    "df['NEW_TotalServices'] = (df[['PhoneService', 'InternetService', 'OnlineSecurity',\n",
    "                                       'OnlineBackup', 'DeviceProtection', 'TechSupport',\n",
    "                                       'StreamingTV', 'StreamingMovies']]== 'Yes').sum(axis=1)\n",
    "\n",
    "\n",
    "# Herhangi bir streaming hizmeti alan kişiler\n",
    "df[\"NEW_FLAG_ANY_STREAMING\"] = df.apply(lambda x: 1 if (x[\"StreamingTV\"] == \"Yes\") or (x[\"StreamingMovies\"] == \"Yes\") else 0, axis=1)\n",
    "\n",
    "# Kişi otomatik ödeme yapıyor mu?\n",
    "df[\"NEW_FLAG_AutoPayment\"] = df[\"PaymentMethod\"].apply(lambda x: 1 if x in [\"Bank transfer (automatic)\",\"Credit card (automatic)\"] else 0)\n",
    "\n",
    "# ortalama aylık ödeme\n",
    "df[\"NEW_AVG_Charges\"] = df[\"TotalCharges\"] / (df[\"tenure\"] + 1)\n",
    "\n",
    "# Güncel Fiyatın ortalama fiyata göre artışı\n",
    "df[\"NEW_Increase\"] = df[\"NEW_AVG_Charges\"] / df[\"MonthlyCharges\"]\n",
    "\n",
    "# Servis başına ücret\n",
    "df[\"NEW_AVG_Service_Fee\"] = df[\"MonthlyCharges\"] / (df['NEW_TotalServices'] + 1)"
   ]
  },
  {
   "cell_type": "code",
   "execution_count": 273,
   "metadata": {},
   "outputs": [
    {
     "data": {
      "text/html": [
       "<div>\n",
       "<style scoped>\n",
       "    .dataframe tbody tr th:only-of-type {\n",
       "        vertical-align: middle;\n",
       "    }\n",
       "\n",
       "    .dataframe tbody tr th {\n",
       "        vertical-align: top;\n",
       "    }\n",
       "\n",
       "    .dataframe thead th {\n",
       "        text-align: right;\n",
       "    }\n",
       "</style>\n",
       "<table border=\"1\" class=\"dataframe\">\n",
       "  <thead>\n",
       "    <tr style=\"text-align: right;\">\n",
       "      <th></th>\n",
       "      <th>customerID</th>\n",
       "      <th>gender</th>\n",
       "      <th>SeniorCitizen</th>\n",
       "      <th>Partner</th>\n",
       "      <th>Dependents</th>\n",
       "      <th>tenure</th>\n",
       "      <th>PhoneService</th>\n",
       "      <th>MultipleLines</th>\n",
       "      <th>InternetService</th>\n",
       "      <th>OnlineSecurity</th>\n",
       "      <th>OnlineBackup</th>\n",
       "      <th>DeviceProtection</th>\n",
       "      <th>TechSupport</th>\n",
       "      <th>StreamingTV</th>\n",
       "      <th>StreamingMovies</th>\n",
       "      <th>Contract</th>\n",
       "      <th>PaperlessBilling</th>\n",
       "      <th>PaymentMethod</th>\n",
       "      <th>MonthlyCharges</th>\n",
       "      <th>TotalCharges</th>\n",
       "      <th>Churn</th>\n",
       "      <th>NEW_TENURE_YEAR</th>\n",
       "      <th>NEW_Engaged</th>\n",
       "      <th>NEW_noProt</th>\n",
       "      <th>NEW_Young_Not_Engaged</th>\n",
       "      <th>NEW_TotalServices</th>\n",
       "      <th>NEW_FLAG_ANY_STREAMING</th>\n",
       "      <th>NEW_FLAG_AutoPayment</th>\n",
       "      <th>NEW_AVG_Charges</th>\n",
       "      <th>NEW_Increase</th>\n",
       "      <th>NEW_AVG_Service_Fee</th>\n",
       "    </tr>\n",
       "  </thead>\n",
       "  <tbody>\n",
       "    <tr>\n",
       "      <th>0</th>\n",
       "      <td>7590-VHVEG</td>\n",
       "      <td>Female</td>\n",
       "      <td>0</td>\n",
       "      <td>Yes</td>\n",
       "      <td>No</td>\n",
       "      <td>1</td>\n",
       "      <td>No</td>\n",
       "      <td>No phone service</td>\n",
       "      <td>DSL</td>\n",
       "      <td>No</td>\n",
       "      <td>Yes</td>\n",
       "      <td>No</td>\n",
       "      <td>No</td>\n",
       "      <td>No</td>\n",
       "      <td>No</td>\n",
       "      <td>Month-to-month</td>\n",
       "      <td>Yes</td>\n",
       "      <td>Electronic check</td>\n",
       "      <td>29.850</td>\n",
       "      <td>29.850</td>\n",
       "      <td>0</td>\n",
       "      <td>0-1 Year</td>\n",
       "      <td>0</td>\n",
       "      <td>1</td>\n",
       "      <td>1</td>\n",
       "      <td>1</td>\n",
       "      <td>0</td>\n",
       "      <td>0</td>\n",
       "      <td>14.925</td>\n",
       "      <td>0.500</td>\n",
       "      <td>14.925</td>\n",
       "    </tr>\n",
       "    <tr>\n",
       "      <th>1</th>\n",
       "      <td>5575-GNVDE</td>\n",
       "      <td>Male</td>\n",
       "      <td>0</td>\n",
       "      <td>No</td>\n",
       "      <td>No</td>\n",
       "      <td>34</td>\n",
       "      <td>Yes</td>\n",
       "      <td>No</td>\n",
       "      <td>DSL</td>\n",
       "      <td>Yes</td>\n",
       "      <td>No</td>\n",
       "      <td>Yes</td>\n",
       "      <td>No</td>\n",
       "      <td>No</td>\n",
       "      <td>No</td>\n",
       "      <td>One year</td>\n",
       "      <td>No</td>\n",
       "      <td>Mailed check</td>\n",
       "      <td>56.950</td>\n",
       "      <td>1889.500</td>\n",
       "      <td>0</td>\n",
       "      <td>2-3 Year</td>\n",
       "      <td>1</td>\n",
       "      <td>1</td>\n",
       "      <td>0</td>\n",
       "      <td>3</td>\n",
       "      <td>0</td>\n",
       "      <td>0</td>\n",
       "      <td>53.986</td>\n",
       "      <td>0.948</td>\n",
       "      <td>14.238</td>\n",
       "    </tr>\n",
       "    <tr>\n",
       "      <th>2</th>\n",
       "      <td>3668-QPYBK</td>\n",
       "      <td>Male</td>\n",
       "      <td>0</td>\n",
       "      <td>No</td>\n",
       "      <td>No</td>\n",
       "      <td>2</td>\n",
       "      <td>Yes</td>\n",
       "      <td>No</td>\n",
       "      <td>DSL</td>\n",
       "      <td>Yes</td>\n",
       "      <td>Yes</td>\n",
       "      <td>No</td>\n",
       "      <td>No</td>\n",
       "      <td>No</td>\n",
       "      <td>No</td>\n",
       "      <td>Month-to-month</td>\n",
       "      <td>Yes</td>\n",
       "      <td>Mailed check</td>\n",
       "      <td>53.850</td>\n",
       "      <td>108.150</td>\n",
       "      <td>1</td>\n",
       "      <td>0-1 Year</td>\n",
       "      <td>0</td>\n",
       "      <td>1</td>\n",
       "      <td>1</td>\n",
       "      <td>3</td>\n",
       "      <td>0</td>\n",
       "      <td>0</td>\n",
       "      <td>36.050</td>\n",
       "      <td>0.669</td>\n",
       "      <td>13.463</td>\n",
       "    </tr>\n",
       "    <tr>\n",
       "      <th>3</th>\n",
       "      <td>7795-CFOCW</td>\n",
       "      <td>Male</td>\n",
       "      <td>0</td>\n",
       "      <td>No</td>\n",
       "      <td>No</td>\n",
       "      <td>45</td>\n",
       "      <td>No</td>\n",
       "      <td>No phone service</td>\n",
       "      <td>DSL</td>\n",
       "      <td>Yes</td>\n",
       "      <td>No</td>\n",
       "      <td>Yes</td>\n",
       "      <td>Yes</td>\n",
       "      <td>No</td>\n",
       "      <td>No</td>\n",
       "      <td>One year</td>\n",
       "      <td>No</td>\n",
       "      <td>Bank transfer (automatic)</td>\n",
       "      <td>42.300</td>\n",
       "      <td>1840.750</td>\n",
       "      <td>0</td>\n",
       "      <td>3-4 Year</td>\n",
       "      <td>1</td>\n",
       "      <td>1</td>\n",
       "      <td>0</td>\n",
       "      <td>3</td>\n",
       "      <td>0</td>\n",
       "      <td>1</td>\n",
       "      <td>40.016</td>\n",
       "      <td>0.946</td>\n",
       "      <td>10.575</td>\n",
       "    </tr>\n",
       "    <tr>\n",
       "      <th>4</th>\n",
       "      <td>9237-HQITU</td>\n",
       "      <td>Female</td>\n",
       "      <td>0</td>\n",
       "      <td>No</td>\n",
       "      <td>No</td>\n",
       "      <td>2</td>\n",
       "      <td>Yes</td>\n",
       "      <td>No</td>\n",
       "      <td>Fiber optic</td>\n",
       "      <td>No</td>\n",
       "      <td>No</td>\n",
       "      <td>No</td>\n",
       "      <td>No</td>\n",
       "      <td>No</td>\n",
       "      <td>No</td>\n",
       "      <td>Month-to-month</td>\n",
       "      <td>Yes</td>\n",
       "      <td>Electronic check</td>\n",
       "      <td>70.700</td>\n",
       "      <td>151.650</td>\n",
       "      <td>1</td>\n",
       "      <td>0-1 Year</td>\n",
       "      <td>0</td>\n",
       "      <td>1</td>\n",
       "      <td>1</td>\n",
       "      <td>1</td>\n",
       "      <td>0</td>\n",
       "      <td>0</td>\n",
       "      <td>50.550</td>\n",
       "      <td>0.715</td>\n",
       "      <td>35.350</td>\n",
       "    </tr>\n",
       "  </tbody>\n",
       "</table>\n",
       "</div>"
      ],
      "text/plain": [
       "   customerID  gender  SeniorCitizen Partner Dependents  tenure PhoneService     MultipleLines InternetService OnlineSecurity OnlineBackup DeviceProtection TechSupport  \\\n",
       "0  7590-VHVEG  Female              0     Yes         No       1           No  No phone service             DSL             No          Yes               No          No   \n",
       "1  5575-GNVDE    Male              0      No         No      34          Yes                No             DSL            Yes           No              Yes          No   \n",
       "2  3668-QPYBK    Male              0      No         No       2          Yes                No             DSL            Yes          Yes               No          No   \n",
       "3  7795-CFOCW    Male              0      No         No      45           No  No phone service             DSL            Yes           No              Yes         Yes   \n",
       "4  9237-HQITU  Female              0      No         No       2          Yes                No     Fiber optic             No           No               No          No   \n",
       "\n",
       "  StreamingTV StreamingMovies        Contract PaperlessBilling              PaymentMethod  MonthlyCharges  TotalCharges  Churn NEW_TENURE_YEAR  NEW_Engaged  NEW_noProt  \\\n",
       "0          No              No  Month-to-month              Yes           Electronic check          29.850        29.850      0        0-1 Year            0           1   \n",
       "1          No              No        One year               No               Mailed check          56.950      1889.500      0        2-3 Year            1           1   \n",
       "2          No              No  Month-to-month              Yes               Mailed check          53.850       108.150      1        0-1 Year            0           1   \n",
       "3          No              No        One year               No  Bank transfer (automatic)          42.300      1840.750      0        3-4 Year            1           1   \n",
       "4          No              No  Month-to-month              Yes           Electronic check          70.700       151.650      1        0-1 Year            0           1   \n",
       "\n",
       "   NEW_Young_Not_Engaged  NEW_TotalServices  NEW_FLAG_ANY_STREAMING  NEW_FLAG_AutoPayment  NEW_AVG_Charges  NEW_Increase  NEW_AVG_Service_Fee  \n",
       "0                      1                  1                       0                     0           14.925         0.500               14.925  \n",
       "1                      0                  3                       0                     0           53.986         0.948               14.238  \n",
       "2                      1                  3                       0                     0           36.050         0.669               13.463  \n",
       "3                      0                  3                       0                     1           40.016         0.946               10.575  \n",
       "4                      1                  1                       0                     0           50.550         0.715               35.350  "
      ]
     },
     "execution_count": 273,
     "metadata": {},
     "output_type": "execute_result"
    }
   ],
   "source": [
    "df.head()"
   ]
  },
  {
   "cell_type": "code",
   "execution_count": 274,
   "metadata": {},
   "outputs": [
    {
     "data": {
      "text/plain": [
       "(7043, 31)"
      ]
     },
     "execution_count": 274,
     "metadata": {},
     "output_type": "execute_result"
    }
   ],
   "source": [
    "df.shape"
   ]
  },
  {
   "attachments": {},
   "cell_type": "markdown",
   "metadata": {},
   "source": [
    "## Adım 3:\n",
    "Encoding işlemlerini gerçekleştiriniz."
   ]
  },
  {
   "cell_type": "code",
   "execution_count": 275,
   "metadata": {},
   "outputs": [
    {
     "name": "stdout",
     "output_type": "stream",
     "text": [
      "Observations: 7043\n",
      "Variables: 31\n",
      "cat_cols: 24\n",
      "num_cols: 6\n",
      "cat_but_car: 1\n",
      "num_but_cat: 8\n"
     ]
    }
   ],
   "source": [
    "cat_cols, num_cols, cat_but_car = grab_col_names(df)"
   ]
  },
  {
   "cell_type": "code",
   "execution_count": 276,
   "metadata": {},
   "outputs": [],
   "source": [
    "# LABEL ENCODING\n",
    "def label_encoder(dataframe, binary_col):\n",
    "    labelencoder = LabelEncoder()\n",
    "    dataframe[binary_col] = labelencoder.fit_transform(dataframe[binary_col])\n",
    "    return dataframe"
   ]
  },
  {
   "cell_type": "code",
   "execution_count": 277,
   "metadata": {},
   "outputs": [
    {
     "data": {
      "text/plain": [
       "['gender', 'Partner', 'Dependents', 'PhoneService', 'PaperlessBilling']"
      ]
     },
     "execution_count": 277,
     "metadata": {},
     "output_type": "execute_result"
    }
   ],
   "source": [
    "binary_cols = [col for col in df.columns if df[col].dtypes == \"O\" and df[col].nunique() == 2]\n",
    "binary_cols"
   ]
  },
  {
   "cell_type": "code",
   "execution_count": 278,
   "metadata": {},
   "outputs": [],
   "source": [
    "for col in binary_cols:\n",
    "    df = label_encoder(df, col)"
   ]
  },
  {
   "cell_type": "code",
   "execution_count": 279,
   "metadata": {},
   "outputs": [],
   "source": [
    "# One-Hot Encoding İşlemi"
   ]
  },
  {
   "cell_type": "code",
   "execution_count": 280,
   "metadata": {},
   "outputs": [
    {
     "data": {
      "text/plain": [
       "['gender',\n",
       " 'Partner',\n",
       " 'Dependents',\n",
       " 'PhoneService',\n",
       " 'MultipleLines',\n",
       " 'InternetService',\n",
       " 'OnlineSecurity',\n",
       " 'OnlineBackup',\n",
       " 'DeviceProtection',\n",
       " 'TechSupport',\n",
       " 'StreamingTV',\n",
       " 'StreamingMovies',\n",
       " 'Contract',\n",
       " 'PaperlessBilling',\n",
       " 'PaymentMethod',\n",
       " 'NEW_TENURE_YEAR',\n",
       " 'SeniorCitizen',\n",
       " 'Churn',\n",
       " 'NEW_Engaged',\n",
       " 'NEW_noProt',\n",
       " 'NEW_Young_Not_Engaged',\n",
       " 'NEW_TotalServices',\n",
       " 'NEW_FLAG_ANY_STREAMING',\n",
       " 'NEW_FLAG_AutoPayment']"
      ]
     },
     "execution_count": 280,
     "metadata": {},
     "output_type": "execute_result"
    }
   ],
   "source": [
    "cat_cols"
   ]
  },
  {
   "cell_type": "code",
   "execution_count": 281,
   "metadata": {},
   "outputs": [
    {
     "data": {
      "text/plain": [
       "['MultipleLines',\n",
       " 'InternetService',\n",
       " 'OnlineSecurity',\n",
       " 'OnlineBackup',\n",
       " 'DeviceProtection',\n",
       " 'TechSupport',\n",
       " 'StreamingTV',\n",
       " 'StreamingMovies',\n",
       " 'Contract',\n",
       " 'PaymentMethod',\n",
       " 'NEW_TENURE_YEAR',\n",
       " 'SeniorCitizen',\n",
       " 'NEW_Engaged',\n",
       " 'NEW_noProt',\n",
       " 'NEW_Young_Not_Engaged',\n",
       " 'NEW_FLAG_ANY_STREAMING',\n",
       " 'NEW_FLAG_AutoPayment']"
      ]
     },
     "execution_count": 281,
     "metadata": {},
     "output_type": "execute_result"
    }
   ],
   "source": [
    "cat_cols = [col for col in cat_cols if col not in binary_cols and col not in [\"Churn\", \"NEW_TotalServices\"]]\n",
    "cat_cols"
   ]
  },
  {
   "cell_type": "code",
   "execution_count": 282,
   "metadata": {},
   "outputs": [],
   "source": [
    "def one_hot_encoder(dataframe, categorical_cols, drop_first=False):\n",
    "    dataframe = pd.get_dummies(dataframe, columns=categorical_cols, drop_first=drop_first)\n",
    "    return dataframe"
   ]
  },
  {
   "cell_type": "code",
   "execution_count": 283,
   "metadata": {},
   "outputs": [],
   "source": [
    "df = one_hot_encoder(df, cat_cols, drop_first=True)"
   ]
  },
  {
   "cell_type": "code",
   "execution_count": 284,
   "metadata": {},
   "outputs": [
    {
     "data": {
      "text/html": [
       "<div>\n",
       "<style scoped>\n",
       "    .dataframe tbody tr th:only-of-type {\n",
       "        vertical-align: middle;\n",
       "    }\n",
       "\n",
       "    .dataframe tbody tr th {\n",
       "        vertical-align: top;\n",
       "    }\n",
       "\n",
       "    .dataframe thead th {\n",
       "        text-align: right;\n",
       "    }\n",
       "</style>\n",
       "<table border=\"1\" class=\"dataframe\">\n",
       "  <thead>\n",
       "    <tr style=\"text-align: right;\">\n",
       "      <th></th>\n",
       "      <th>customerID</th>\n",
       "      <th>gender</th>\n",
       "      <th>Partner</th>\n",
       "      <th>Dependents</th>\n",
       "      <th>tenure</th>\n",
       "      <th>PhoneService</th>\n",
       "      <th>PaperlessBilling</th>\n",
       "      <th>MonthlyCharges</th>\n",
       "      <th>TotalCharges</th>\n",
       "      <th>Churn</th>\n",
       "      <th>NEW_TotalServices</th>\n",
       "      <th>NEW_AVG_Charges</th>\n",
       "      <th>NEW_Increase</th>\n",
       "      <th>NEW_AVG_Service_Fee</th>\n",
       "      <th>MultipleLines_No phone service</th>\n",
       "      <th>MultipleLines_Yes</th>\n",
       "      <th>InternetService_Fiber optic</th>\n",
       "      <th>InternetService_No</th>\n",
       "      <th>OnlineSecurity_No internet service</th>\n",
       "      <th>OnlineSecurity_Yes</th>\n",
       "      <th>OnlineBackup_No internet service</th>\n",
       "      <th>OnlineBackup_Yes</th>\n",
       "      <th>DeviceProtection_No internet service</th>\n",
       "      <th>DeviceProtection_Yes</th>\n",
       "      <th>TechSupport_No internet service</th>\n",
       "      <th>TechSupport_Yes</th>\n",
       "      <th>StreamingTV_No internet service</th>\n",
       "      <th>StreamingTV_Yes</th>\n",
       "      <th>StreamingMovies_No internet service</th>\n",
       "      <th>StreamingMovies_Yes</th>\n",
       "      <th>Contract_One year</th>\n",
       "      <th>Contract_Two year</th>\n",
       "      <th>PaymentMethod_Credit card (automatic)</th>\n",
       "      <th>PaymentMethod_Electronic check</th>\n",
       "      <th>PaymentMethod_Mailed check</th>\n",
       "      <th>NEW_TENURE_YEAR_1-2 Year</th>\n",
       "      <th>NEW_TENURE_YEAR_2-3 Year</th>\n",
       "      <th>NEW_TENURE_YEAR_3-4 Year</th>\n",
       "      <th>NEW_TENURE_YEAR_4-5 Year</th>\n",
       "      <th>NEW_TENURE_YEAR_5-6 Year</th>\n",
       "      <th>SeniorCitizen_1</th>\n",
       "      <th>NEW_Engaged_1</th>\n",
       "      <th>NEW_noProt_1</th>\n",
       "      <th>NEW_Young_Not_Engaged_1</th>\n",
       "      <th>NEW_FLAG_ANY_STREAMING_1</th>\n",
       "      <th>NEW_FLAG_AutoPayment_1</th>\n",
       "    </tr>\n",
       "  </thead>\n",
       "  <tbody>\n",
       "    <tr>\n",
       "      <th>0</th>\n",
       "      <td>7590-VHVEG</td>\n",
       "      <td>0</td>\n",
       "      <td>1</td>\n",
       "      <td>0</td>\n",
       "      <td>1</td>\n",
       "      <td>0</td>\n",
       "      <td>1</td>\n",
       "      <td>29.850</td>\n",
       "      <td>29.850</td>\n",
       "      <td>0</td>\n",
       "      <td>1</td>\n",
       "      <td>14.925</td>\n",
       "      <td>0.500</td>\n",
       "      <td>14.925</td>\n",
       "      <td>1</td>\n",
       "      <td>0</td>\n",
       "      <td>0</td>\n",
       "      <td>0</td>\n",
       "      <td>0</td>\n",
       "      <td>0</td>\n",
       "      <td>0</td>\n",
       "      <td>1</td>\n",
       "      <td>0</td>\n",
       "      <td>0</td>\n",
       "      <td>0</td>\n",
       "      <td>0</td>\n",
       "      <td>0</td>\n",
       "      <td>0</td>\n",
       "      <td>0</td>\n",
       "      <td>0</td>\n",
       "      <td>0</td>\n",
       "      <td>0</td>\n",
       "      <td>0</td>\n",
       "      <td>1</td>\n",
       "      <td>0</td>\n",
       "      <td>0</td>\n",
       "      <td>0</td>\n",
       "      <td>0</td>\n",
       "      <td>0</td>\n",
       "      <td>0</td>\n",
       "      <td>0</td>\n",
       "      <td>0</td>\n",
       "      <td>1</td>\n",
       "      <td>1</td>\n",
       "      <td>0</td>\n",
       "      <td>0</td>\n",
       "    </tr>\n",
       "    <tr>\n",
       "      <th>1</th>\n",
       "      <td>5575-GNVDE</td>\n",
       "      <td>1</td>\n",
       "      <td>0</td>\n",
       "      <td>0</td>\n",
       "      <td>34</td>\n",
       "      <td>1</td>\n",
       "      <td>0</td>\n",
       "      <td>56.950</td>\n",
       "      <td>1889.500</td>\n",
       "      <td>0</td>\n",
       "      <td>3</td>\n",
       "      <td>53.986</td>\n",
       "      <td>0.948</td>\n",
       "      <td>14.238</td>\n",
       "      <td>0</td>\n",
       "      <td>0</td>\n",
       "      <td>0</td>\n",
       "      <td>0</td>\n",
       "      <td>0</td>\n",
       "      <td>1</td>\n",
       "      <td>0</td>\n",
       "      <td>0</td>\n",
       "      <td>0</td>\n",
       "      <td>1</td>\n",
       "      <td>0</td>\n",
       "      <td>0</td>\n",
       "      <td>0</td>\n",
       "      <td>0</td>\n",
       "      <td>0</td>\n",
       "      <td>0</td>\n",
       "      <td>1</td>\n",
       "      <td>0</td>\n",
       "      <td>0</td>\n",
       "      <td>0</td>\n",
       "      <td>1</td>\n",
       "      <td>0</td>\n",
       "      <td>1</td>\n",
       "      <td>0</td>\n",
       "      <td>0</td>\n",
       "      <td>0</td>\n",
       "      <td>0</td>\n",
       "      <td>1</td>\n",
       "      <td>1</td>\n",
       "      <td>0</td>\n",
       "      <td>0</td>\n",
       "      <td>0</td>\n",
       "    </tr>\n",
       "    <tr>\n",
       "      <th>2</th>\n",
       "      <td>3668-QPYBK</td>\n",
       "      <td>1</td>\n",
       "      <td>0</td>\n",
       "      <td>0</td>\n",
       "      <td>2</td>\n",
       "      <td>1</td>\n",
       "      <td>1</td>\n",
       "      <td>53.850</td>\n",
       "      <td>108.150</td>\n",
       "      <td>1</td>\n",
       "      <td>3</td>\n",
       "      <td>36.050</td>\n",
       "      <td>0.669</td>\n",
       "      <td>13.463</td>\n",
       "      <td>0</td>\n",
       "      <td>0</td>\n",
       "      <td>0</td>\n",
       "      <td>0</td>\n",
       "      <td>0</td>\n",
       "      <td>1</td>\n",
       "      <td>0</td>\n",
       "      <td>1</td>\n",
       "      <td>0</td>\n",
       "      <td>0</td>\n",
       "      <td>0</td>\n",
       "      <td>0</td>\n",
       "      <td>0</td>\n",
       "      <td>0</td>\n",
       "      <td>0</td>\n",
       "      <td>0</td>\n",
       "      <td>0</td>\n",
       "      <td>0</td>\n",
       "      <td>0</td>\n",
       "      <td>0</td>\n",
       "      <td>1</td>\n",
       "      <td>0</td>\n",
       "      <td>0</td>\n",
       "      <td>0</td>\n",
       "      <td>0</td>\n",
       "      <td>0</td>\n",
       "      <td>0</td>\n",
       "      <td>0</td>\n",
       "      <td>1</td>\n",
       "      <td>1</td>\n",
       "      <td>0</td>\n",
       "      <td>0</td>\n",
       "    </tr>\n",
       "    <tr>\n",
       "      <th>3</th>\n",
       "      <td>7795-CFOCW</td>\n",
       "      <td>1</td>\n",
       "      <td>0</td>\n",
       "      <td>0</td>\n",
       "      <td>45</td>\n",
       "      <td>0</td>\n",
       "      <td>0</td>\n",
       "      <td>42.300</td>\n",
       "      <td>1840.750</td>\n",
       "      <td>0</td>\n",
       "      <td>3</td>\n",
       "      <td>40.016</td>\n",
       "      <td>0.946</td>\n",
       "      <td>10.575</td>\n",
       "      <td>1</td>\n",
       "      <td>0</td>\n",
       "      <td>0</td>\n",
       "      <td>0</td>\n",
       "      <td>0</td>\n",
       "      <td>1</td>\n",
       "      <td>0</td>\n",
       "      <td>0</td>\n",
       "      <td>0</td>\n",
       "      <td>1</td>\n",
       "      <td>0</td>\n",
       "      <td>1</td>\n",
       "      <td>0</td>\n",
       "      <td>0</td>\n",
       "      <td>0</td>\n",
       "      <td>0</td>\n",
       "      <td>1</td>\n",
       "      <td>0</td>\n",
       "      <td>0</td>\n",
       "      <td>0</td>\n",
       "      <td>0</td>\n",
       "      <td>0</td>\n",
       "      <td>0</td>\n",
       "      <td>1</td>\n",
       "      <td>0</td>\n",
       "      <td>0</td>\n",
       "      <td>0</td>\n",
       "      <td>1</td>\n",
       "      <td>1</td>\n",
       "      <td>0</td>\n",
       "      <td>0</td>\n",
       "      <td>1</td>\n",
       "    </tr>\n",
       "    <tr>\n",
       "      <th>4</th>\n",
       "      <td>9237-HQITU</td>\n",
       "      <td>0</td>\n",
       "      <td>0</td>\n",
       "      <td>0</td>\n",
       "      <td>2</td>\n",
       "      <td>1</td>\n",
       "      <td>1</td>\n",
       "      <td>70.700</td>\n",
       "      <td>151.650</td>\n",
       "      <td>1</td>\n",
       "      <td>1</td>\n",
       "      <td>50.550</td>\n",
       "      <td>0.715</td>\n",
       "      <td>35.350</td>\n",
       "      <td>0</td>\n",
       "      <td>0</td>\n",
       "      <td>1</td>\n",
       "      <td>0</td>\n",
       "      <td>0</td>\n",
       "      <td>0</td>\n",
       "      <td>0</td>\n",
       "      <td>0</td>\n",
       "      <td>0</td>\n",
       "      <td>0</td>\n",
       "      <td>0</td>\n",
       "      <td>0</td>\n",
       "      <td>0</td>\n",
       "      <td>0</td>\n",
       "      <td>0</td>\n",
       "      <td>0</td>\n",
       "      <td>0</td>\n",
       "      <td>0</td>\n",
       "      <td>0</td>\n",
       "      <td>1</td>\n",
       "      <td>0</td>\n",
       "      <td>0</td>\n",
       "      <td>0</td>\n",
       "      <td>0</td>\n",
       "      <td>0</td>\n",
       "      <td>0</td>\n",
       "      <td>0</td>\n",
       "      <td>0</td>\n",
       "      <td>1</td>\n",
       "      <td>1</td>\n",
       "      <td>0</td>\n",
       "      <td>0</td>\n",
       "    </tr>\n",
       "  </tbody>\n",
       "</table>\n",
       "</div>"
      ],
      "text/plain": [
       "   customerID  gender  Partner  Dependents  tenure  PhoneService  PaperlessBilling  MonthlyCharges  TotalCharges  Churn  NEW_TotalServices  NEW_AVG_Charges  \\\n",
       "0  7590-VHVEG       0        1           0       1             0                 1          29.850        29.850      0                  1           14.925   \n",
       "1  5575-GNVDE       1        0           0      34             1                 0          56.950      1889.500      0                  3           53.986   \n",
       "2  3668-QPYBK       1        0           0       2             1                 1          53.850       108.150      1                  3           36.050   \n",
       "3  7795-CFOCW       1        0           0      45             0                 0          42.300      1840.750      0                  3           40.016   \n",
       "4  9237-HQITU       0        0           0       2             1                 1          70.700       151.650      1                  1           50.550   \n",
       "\n",
       "   NEW_Increase  NEW_AVG_Service_Fee  MultipleLines_No phone service  MultipleLines_Yes  InternetService_Fiber optic  InternetService_No  \\\n",
       "0         0.500               14.925                               1                  0                            0                   0   \n",
       "1         0.948               14.238                               0                  0                            0                   0   \n",
       "2         0.669               13.463                               0                  0                            0                   0   \n",
       "3         0.946               10.575                               1                  0                            0                   0   \n",
       "4         0.715               35.350                               0                  0                            1                   0   \n",
       "\n",
       "   OnlineSecurity_No internet service  OnlineSecurity_Yes  OnlineBackup_No internet service  OnlineBackup_Yes  DeviceProtection_No internet service  \\\n",
       "0                                   0                   0                                 0                 1                                     0   \n",
       "1                                   0                   1                                 0                 0                                     0   \n",
       "2                                   0                   1                                 0                 1                                     0   \n",
       "3                                   0                   1                                 0                 0                                     0   \n",
       "4                                   0                   0                                 0                 0                                     0   \n",
       "\n",
       "   DeviceProtection_Yes  TechSupport_No internet service  TechSupport_Yes  StreamingTV_No internet service  StreamingTV_Yes  StreamingMovies_No internet service  \\\n",
       "0                     0                                0                0                                0                0                                    0   \n",
       "1                     1                                0                0                                0                0                                    0   \n",
       "2                     0                                0                0                                0                0                                    0   \n",
       "3                     1                                0                1                                0                0                                    0   \n",
       "4                     0                                0                0                                0                0                                    0   \n",
       "\n",
       "   StreamingMovies_Yes  Contract_One year  Contract_Two year  PaymentMethod_Credit card (automatic)  PaymentMethod_Electronic check  PaymentMethod_Mailed check  \\\n",
       "0                    0                  0                  0                                      0                               1                           0   \n",
       "1                    0                  1                  0                                      0                               0                           1   \n",
       "2                    0                  0                  0                                      0                               0                           1   \n",
       "3                    0                  1                  0                                      0                               0                           0   \n",
       "4                    0                  0                  0                                      0                               1                           0   \n",
       "\n",
       "   NEW_TENURE_YEAR_1-2 Year  NEW_TENURE_YEAR_2-3 Year  NEW_TENURE_YEAR_3-4 Year  NEW_TENURE_YEAR_4-5 Year  NEW_TENURE_YEAR_5-6 Year  SeniorCitizen_1  NEW_Engaged_1  \\\n",
       "0                         0                         0                         0                         0                         0                0              0   \n",
       "1                         0                         1                         0                         0                         0                0              1   \n",
       "2                         0                         0                         0                         0                         0                0              0   \n",
       "3                         0                         0                         1                         0                         0                0              1   \n",
       "4                         0                         0                         0                         0                         0                0              0   \n",
       "\n",
       "   NEW_noProt_1  NEW_Young_Not_Engaged_1  NEW_FLAG_ANY_STREAMING_1  NEW_FLAG_AutoPayment_1  \n",
       "0             1                        1                         0                       0  \n",
       "1             1                        0                         0                       0  \n",
       "2             1                        1                         0                       0  \n",
       "3             1                        0                         0                       1  \n",
       "4             1                        1                         0                       0  "
      ]
     },
     "execution_count": 284,
     "metadata": {},
     "output_type": "execute_result"
    }
   ],
   "source": [
    "df.head()"
   ]
  },
  {
   "attachments": {},
   "cell_type": "markdown",
   "metadata": {},
   "source": [
    "## Adım 4:\n",
    "Numerik değişkenler için standartlaştırma yapınız."
   ]
  },
  {
   "cell_type": "code",
   "execution_count": 285,
   "metadata": {},
   "outputs": [
    {
     "data": {
      "text/plain": [
       "['tenure',\n",
       " 'MonthlyCharges',\n",
       " 'TotalCharges',\n",
       " 'NEW_AVG_Charges',\n",
       " 'NEW_Increase',\n",
       " 'NEW_AVG_Service_Fee']"
      ]
     },
     "execution_count": 285,
     "metadata": {},
     "output_type": "execute_result"
    }
   ],
   "source": [
    "num_cols"
   ]
  },
  {
   "cell_type": "code",
   "execution_count": 286,
   "metadata": {},
   "outputs": [],
   "source": [
    "scaler = StandardScaler()\n",
    "df[num_cols] = scaler.fit_transform(df[num_cols])"
   ]
  },
  {
   "cell_type": "code",
   "execution_count": 287,
   "metadata": {},
   "outputs": [
    {
     "data": {
      "text/html": [
       "<div>\n",
       "<style scoped>\n",
       "    .dataframe tbody tr th:only-of-type {\n",
       "        vertical-align: middle;\n",
       "    }\n",
       "\n",
       "    .dataframe tbody tr th {\n",
       "        vertical-align: top;\n",
       "    }\n",
       "\n",
       "    .dataframe thead th {\n",
       "        text-align: right;\n",
       "    }\n",
       "</style>\n",
       "<table border=\"1\" class=\"dataframe\">\n",
       "  <thead>\n",
       "    <tr style=\"text-align: right;\">\n",
       "      <th></th>\n",
       "      <th>customerID</th>\n",
       "      <th>gender</th>\n",
       "      <th>Partner</th>\n",
       "      <th>Dependents</th>\n",
       "      <th>tenure</th>\n",
       "      <th>PhoneService</th>\n",
       "      <th>PaperlessBilling</th>\n",
       "      <th>MonthlyCharges</th>\n",
       "      <th>TotalCharges</th>\n",
       "      <th>Churn</th>\n",
       "      <th>NEW_TotalServices</th>\n",
       "      <th>NEW_AVG_Charges</th>\n",
       "      <th>NEW_Increase</th>\n",
       "      <th>NEW_AVG_Service_Fee</th>\n",
       "      <th>MultipleLines_No phone service</th>\n",
       "      <th>MultipleLines_Yes</th>\n",
       "      <th>InternetService_Fiber optic</th>\n",
       "      <th>InternetService_No</th>\n",
       "      <th>OnlineSecurity_No internet service</th>\n",
       "      <th>OnlineSecurity_Yes</th>\n",
       "      <th>OnlineBackup_No internet service</th>\n",
       "      <th>OnlineBackup_Yes</th>\n",
       "      <th>DeviceProtection_No internet service</th>\n",
       "      <th>DeviceProtection_Yes</th>\n",
       "      <th>TechSupport_No internet service</th>\n",
       "      <th>TechSupport_Yes</th>\n",
       "      <th>StreamingTV_No internet service</th>\n",
       "      <th>StreamingTV_Yes</th>\n",
       "      <th>StreamingMovies_No internet service</th>\n",
       "      <th>StreamingMovies_Yes</th>\n",
       "      <th>Contract_One year</th>\n",
       "      <th>Contract_Two year</th>\n",
       "      <th>PaymentMethod_Credit card (automatic)</th>\n",
       "      <th>PaymentMethod_Electronic check</th>\n",
       "      <th>PaymentMethod_Mailed check</th>\n",
       "      <th>NEW_TENURE_YEAR_1-2 Year</th>\n",
       "      <th>NEW_TENURE_YEAR_2-3 Year</th>\n",
       "      <th>NEW_TENURE_YEAR_3-4 Year</th>\n",
       "      <th>NEW_TENURE_YEAR_4-5 Year</th>\n",
       "      <th>NEW_TENURE_YEAR_5-6 Year</th>\n",
       "      <th>SeniorCitizen_1</th>\n",
       "      <th>NEW_Engaged_1</th>\n",
       "      <th>NEW_noProt_1</th>\n",
       "      <th>NEW_Young_Not_Engaged_1</th>\n",
       "      <th>NEW_FLAG_ANY_STREAMING_1</th>\n",
       "      <th>NEW_FLAG_AutoPayment_1</th>\n",
       "    </tr>\n",
       "  </thead>\n",
       "  <tbody>\n",
       "    <tr>\n",
       "      <th>0</th>\n",
       "      <td>7590-VHVEG</td>\n",
       "      <td>0</td>\n",
       "      <td>1</td>\n",
       "      <td>0</td>\n",
       "      <td>-1.277</td>\n",
       "      <td>0</td>\n",
       "      <td>1</td>\n",
       "      <td>-1.160</td>\n",
       "      <td>-0.994</td>\n",
       "      <td>0</td>\n",
       "      <td>1</td>\n",
       "      <td>-0.758</td>\n",
       "      <td>-0.238</td>\n",
       "      <td>-0.311</td>\n",
       "      <td>1</td>\n",
       "      <td>0</td>\n",
       "      <td>0</td>\n",
       "      <td>0</td>\n",
       "      <td>0</td>\n",
       "      <td>0</td>\n",
       "      <td>0</td>\n",
       "      <td>1</td>\n",
       "      <td>0</td>\n",
       "      <td>0</td>\n",
       "      <td>0</td>\n",
       "      <td>0</td>\n",
       "      <td>0</td>\n",
       "      <td>0</td>\n",
       "      <td>0</td>\n",
       "      <td>0</td>\n",
       "      <td>0</td>\n",
       "      <td>0</td>\n",
       "      <td>0</td>\n",
       "      <td>1</td>\n",
       "      <td>0</td>\n",
       "      <td>0</td>\n",
       "      <td>0</td>\n",
       "      <td>0</td>\n",
       "      <td>0</td>\n",
       "      <td>0</td>\n",
       "      <td>0</td>\n",
       "      <td>0</td>\n",
       "      <td>1</td>\n",
       "      <td>1</td>\n",
       "      <td>0</td>\n",
       "      <td>0</td>\n",
       "    </tr>\n",
       "    <tr>\n",
       "      <th>1</th>\n",
       "      <td>5575-GNVDE</td>\n",
       "      <td>1</td>\n",
       "      <td>0</td>\n",
       "      <td>0</td>\n",
       "      <td>0.066</td>\n",
       "      <td>1</td>\n",
       "      <td>0</td>\n",
       "      <td>-0.260</td>\n",
       "      <td>-0.173</td>\n",
       "      <td>0</td>\n",
       "      <td>3</td>\n",
       "      <td>-0.118</td>\n",
       "      <td>-0.010</td>\n",
       "      <td>-0.410</td>\n",
       "      <td>0</td>\n",
       "      <td>0</td>\n",
       "      <td>0</td>\n",
       "      <td>0</td>\n",
       "      <td>0</td>\n",
       "      <td>1</td>\n",
       "      <td>0</td>\n",
       "      <td>0</td>\n",
       "      <td>0</td>\n",
       "      <td>1</td>\n",
       "      <td>0</td>\n",
       "      <td>0</td>\n",
       "      <td>0</td>\n",
       "      <td>0</td>\n",
       "      <td>0</td>\n",
       "      <td>0</td>\n",
       "      <td>1</td>\n",
       "      <td>0</td>\n",
       "      <td>0</td>\n",
       "      <td>0</td>\n",
       "      <td>1</td>\n",
       "      <td>0</td>\n",
       "      <td>1</td>\n",
       "      <td>0</td>\n",
       "      <td>0</td>\n",
       "      <td>0</td>\n",
       "      <td>0</td>\n",
       "      <td>1</td>\n",
       "      <td>1</td>\n",
       "      <td>0</td>\n",
       "      <td>0</td>\n",
       "      <td>0</td>\n",
       "    </tr>\n",
       "    <tr>\n",
       "      <th>2</th>\n",
       "      <td>3668-QPYBK</td>\n",
       "      <td>1</td>\n",
       "      <td>0</td>\n",
       "      <td>0</td>\n",
       "      <td>-1.237</td>\n",
       "      <td>1</td>\n",
       "      <td>1</td>\n",
       "      <td>-0.363</td>\n",
       "      <td>-0.960</td>\n",
       "      <td>1</td>\n",
       "      <td>3</td>\n",
       "      <td>-0.412</td>\n",
       "      <td>-0.152</td>\n",
       "      <td>-0.522</td>\n",
       "      <td>0</td>\n",
       "      <td>0</td>\n",
       "      <td>0</td>\n",
       "      <td>0</td>\n",
       "      <td>0</td>\n",
       "      <td>1</td>\n",
       "      <td>0</td>\n",
       "      <td>1</td>\n",
       "      <td>0</td>\n",
       "      <td>0</td>\n",
       "      <td>0</td>\n",
       "      <td>0</td>\n",
       "      <td>0</td>\n",
       "      <td>0</td>\n",
       "      <td>0</td>\n",
       "      <td>0</td>\n",
       "      <td>0</td>\n",
       "      <td>0</td>\n",
       "      <td>0</td>\n",
       "      <td>0</td>\n",
       "      <td>1</td>\n",
       "      <td>0</td>\n",
       "      <td>0</td>\n",
       "      <td>0</td>\n",
       "      <td>0</td>\n",
       "      <td>0</td>\n",
       "      <td>0</td>\n",
       "      <td>0</td>\n",
       "      <td>1</td>\n",
       "      <td>1</td>\n",
       "      <td>0</td>\n",
       "      <td>0</td>\n",
       "    </tr>\n",
       "    <tr>\n",
       "      <th>3</th>\n",
       "      <td>7795-CFOCW</td>\n",
       "      <td>1</td>\n",
       "      <td>0</td>\n",
       "      <td>0</td>\n",
       "      <td>0.514</td>\n",
       "      <td>0</td>\n",
       "      <td>0</td>\n",
       "      <td>-0.747</td>\n",
       "      <td>-0.195</td>\n",
       "      <td>0</td>\n",
       "      <td>3</td>\n",
       "      <td>-0.347</td>\n",
       "      <td>-0.011</td>\n",
       "      <td>-0.939</td>\n",
       "      <td>1</td>\n",
       "      <td>0</td>\n",
       "      <td>0</td>\n",
       "      <td>0</td>\n",
       "      <td>0</td>\n",
       "      <td>1</td>\n",
       "      <td>0</td>\n",
       "      <td>0</td>\n",
       "      <td>0</td>\n",
       "      <td>1</td>\n",
       "      <td>0</td>\n",
       "      <td>1</td>\n",
       "      <td>0</td>\n",
       "      <td>0</td>\n",
       "      <td>0</td>\n",
       "      <td>0</td>\n",
       "      <td>1</td>\n",
       "      <td>0</td>\n",
       "      <td>0</td>\n",
       "      <td>0</td>\n",
       "      <td>0</td>\n",
       "      <td>0</td>\n",
       "      <td>0</td>\n",
       "      <td>1</td>\n",
       "      <td>0</td>\n",
       "      <td>0</td>\n",
       "      <td>0</td>\n",
       "      <td>1</td>\n",
       "      <td>1</td>\n",
       "      <td>0</td>\n",
       "      <td>0</td>\n",
       "      <td>1</td>\n",
       "    </tr>\n",
       "    <tr>\n",
       "      <th>4</th>\n",
       "      <td>9237-HQITU</td>\n",
       "      <td>0</td>\n",
       "      <td>0</td>\n",
       "      <td>0</td>\n",
       "      <td>-1.237</td>\n",
       "      <td>1</td>\n",
       "      <td>1</td>\n",
       "      <td>0.197</td>\n",
       "      <td>-0.940</td>\n",
       "      <td>1</td>\n",
       "      <td>1</td>\n",
       "      <td>-0.174</td>\n",
       "      <td>-0.129</td>\n",
       "      <td>2.636</td>\n",
       "      <td>0</td>\n",
       "      <td>0</td>\n",
       "      <td>1</td>\n",
       "      <td>0</td>\n",
       "      <td>0</td>\n",
       "      <td>0</td>\n",
       "      <td>0</td>\n",
       "      <td>0</td>\n",
       "      <td>0</td>\n",
       "      <td>0</td>\n",
       "      <td>0</td>\n",
       "      <td>0</td>\n",
       "      <td>0</td>\n",
       "      <td>0</td>\n",
       "      <td>0</td>\n",
       "      <td>0</td>\n",
       "      <td>0</td>\n",
       "      <td>0</td>\n",
       "      <td>0</td>\n",
       "      <td>1</td>\n",
       "      <td>0</td>\n",
       "      <td>0</td>\n",
       "      <td>0</td>\n",
       "      <td>0</td>\n",
       "      <td>0</td>\n",
       "      <td>0</td>\n",
       "      <td>0</td>\n",
       "      <td>0</td>\n",
       "      <td>1</td>\n",
       "      <td>1</td>\n",
       "      <td>0</td>\n",
       "      <td>0</td>\n",
       "    </tr>\n",
       "  </tbody>\n",
       "</table>\n",
       "</div>"
      ],
      "text/plain": [
       "   customerID  gender  Partner  Dependents  tenure  PhoneService  PaperlessBilling  MonthlyCharges  TotalCharges  Churn  NEW_TotalServices  NEW_AVG_Charges  \\\n",
       "0  7590-VHVEG       0        1           0  -1.277             0                 1          -1.160        -0.994      0                  1           -0.758   \n",
       "1  5575-GNVDE       1        0           0   0.066             1                 0          -0.260        -0.173      0                  3           -0.118   \n",
       "2  3668-QPYBK       1        0           0  -1.237             1                 1          -0.363        -0.960      1                  3           -0.412   \n",
       "3  7795-CFOCW       1        0           0   0.514             0                 0          -0.747        -0.195      0                  3           -0.347   \n",
       "4  9237-HQITU       0        0           0  -1.237             1                 1           0.197        -0.940      1                  1           -0.174   \n",
       "\n",
       "   NEW_Increase  NEW_AVG_Service_Fee  MultipleLines_No phone service  MultipleLines_Yes  InternetService_Fiber optic  InternetService_No  \\\n",
       "0        -0.238               -0.311                               1                  0                            0                   0   \n",
       "1        -0.010               -0.410                               0                  0                            0                   0   \n",
       "2        -0.152               -0.522                               0                  0                            0                   0   \n",
       "3        -0.011               -0.939                               1                  0                            0                   0   \n",
       "4        -0.129                2.636                               0                  0                            1                   0   \n",
       "\n",
       "   OnlineSecurity_No internet service  OnlineSecurity_Yes  OnlineBackup_No internet service  OnlineBackup_Yes  DeviceProtection_No internet service  \\\n",
       "0                                   0                   0                                 0                 1                                     0   \n",
       "1                                   0                   1                                 0                 0                                     0   \n",
       "2                                   0                   1                                 0                 1                                     0   \n",
       "3                                   0                   1                                 0                 0                                     0   \n",
       "4                                   0                   0                                 0                 0                                     0   \n",
       "\n",
       "   DeviceProtection_Yes  TechSupport_No internet service  TechSupport_Yes  StreamingTV_No internet service  StreamingTV_Yes  StreamingMovies_No internet service  \\\n",
       "0                     0                                0                0                                0                0                                    0   \n",
       "1                     1                                0                0                                0                0                                    0   \n",
       "2                     0                                0                0                                0                0                                    0   \n",
       "3                     1                                0                1                                0                0                                    0   \n",
       "4                     0                                0                0                                0                0                                    0   \n",
       "\n",
       "   StreamingMovies_Yes  Contract_One year  Contract_Two year  PaymentMethod_Credit card (automatic)  PaymentMethod_Electronic check  PaymentMethod_Mailed check  \\\n",
       "0                    0                  0                  0                                      0                               1                           0   \n",
       "1                    0                  1                  0                                      0                               0                           1   \n",
       "2                    0                  0                  0                                      0                               0                           1   \n",
       "3                    0                  1                  0                                      0                               0                           0   \n",
       "4                    0                  0                  0                                      0                               1                           0   \n",
       "\n",
       "   NEW_TENURE_YEAR_1-2 Year  NEW_TENURE_YEAR_2-3 Year  NEW_TENURE_YEAR_3-4 Year  NEW_TENURE_YEAR_4-5 Year  NEW_TENURE_YEAR_5-6 Year  SeniorCitizen_1  NEW_Engaged_1  \\\n",
       "0                         0                         0                         0                         0                         0                0              0   \n",
       "1                         0                         1                         0                         0                         0                0              1   \n",
       "2                         0                         0                         0                         0                         0                0              0   \n",
       "3                         0                         0                         1                         0                         0                0              1   \n",
       "4                         0                         0                         0                         0                         0                0              0   \n",
       "\n",
       "   NEW_noProt_1  NEW_Young_Not_Engaged_1  NEW_FLAG_ANY_STREAMING_1  NEW_FLAG_AutoPayment_1  \n",
       "0             1                        1                         0                       0  \n",
       "1             1                        0                         0                       0  \n",
       "2             1                        1                         0                       0  \n",
       "3             1                        0                         0                       1  \n",
       "4             1                        1                         0                       0  "
      ]
     },
     "execution_count": 287,
     "metadata": {},
     "output_type": "execute_result"
    }
   ],
   "source": [
    "df.head()"
   ]
  },
  {
   "cell_type": "code",
   "execution_count": 288,
   "metadata": {},
   "outputs": [
    {
     "data": {
      "text/plain": [
       "(7043, 46)"
      ]
     },
     "execution_count": 288,
     "metadata": {},
     "output_type": "execute_result"
    }
   ],
   "source": [
    "df.shape"
   ]
  },
  {
   "attachments": {},
   "cell_type": "markdown",
   "metadata": {},
   "source": [
    "## Adım 5:\n",
    "Model oluşturunuz."
   ]
  },
  {
   "cell_type": "code",
   "execution_count": 297,
   "metadata": {},
   "outputs": [
    {
     "name": "stdout",
     "output_type": "stream",
     "text": [
      "Accuracy: 0.81\n",
      "Recall: 0.64\n",
      "Precision: 0.56\n",
      "F1: 0.6\n",
      "Auc: 0.75\n"
     ]
    }
   ],
   "source": [
    "y = df[\"Churn\"]\n",
    "X = df.drop([\"Churn\",\"customerID\"], axis=1)\n",
    "\n",
    "X_train, X_test, y_train, y_test = train_test_split(X, y, test_size=0.30, random_state=14)\n",
    "\n",
    "catboost_model = CatBoostClassifier(verbose=False).fit(X_train, y_train)\n",
    "y_pred = catboost_model.predict(X_test)\n",
    "\n",
    "print(f\"Accuracy: {round(accuracy_score(y_pred, y_test), 2)}\")\n",
    "print(f\"Recall: {round(recall_score(y_pred,y_test),2)}\")\n",
    "print(f\"Precision: {round(precision_score(y_pred,y_test), 2)}\")\n",
    "print(f\"F1: {round(f1_score(y_pred,y_test), 2)}\")\n",
    "print(f\"Auc: {round(roc_auc_score(y_pred,y_test), 2)}\")\n"
   ]
  },
  {
   "cell_type": "code",
   "execution_count": 298,
   "metadata": {},
   "outputs": [],
   "source": [
    "# Önceki model başarımız;\n",
    "# Accuracy: 0.7847\n",
    "# Recall: 0.6331\n",
    "# Precision: 0.493\n",
    "# F1: 0.5544\n",
    "# Auc: 0.7292"
   ]
  },
  {
   "cell_type": "code",
   "execution_count": 299,
   "metadata": {},
   "outputs": [],
   "source": [
    "def plot_feature_importance(importance, names, model_type):\n",
    "    feature_importance = np.array(importance)\n",
    "    feature_names = np.array(names)\n",
    "\n",
    "    data = {'feature_names': feature_names, 'feature_importance':feature_importance}\n",
    "    fi_df = pd.DataFrame(data)\n",
    "\n",
    "    fi_df.sort_values(by=['feature_importance'], ascending=False, inplace=True)\n",
    "\n",
    "    plt.figure(figsize=(15,10))\n",
    "    sns.barplot(x=fi_df['feature_importance'], y=fi_df['feature_names'])\n",
    "    plt.title(model_type + 'FEATURE IMPORTANCE')\n",
    "    plt.xlabel('FEATURE IMPORTANCE')\n",
    "    plt.ylabel('FEATURE NAMES')\n",
    "    plt.show()"
   ]
  },
  {
   "cell_type": "code",
   "execution_count": 300,
   "metadata": {},
   "outputs": [
    {
     "data": {
      "image/png": "[encoded data removed]",
      "text/plain": [
       "<Figure size 1080x720 with 1 Axes>"
      ]
     },
     "metadata": {},
     "output_type": "display_data"
    }
   ],
   "source": [
    "plot_feature_importance(catboost_model.get_feature_importance(), X.columns, 'CATBOOST')"
   ]
  }
 ],
 "metadata": {
  "kernelspec": {
   "display_name": "genc_env",
   "language": "python",
   "name": "python3"
  },
  "language_info": {
   "codemirror_mode": {
    "name": "ipython",
    "version": 3
   },
   "file_extension": ".py",
   "mimetype": "text/x-python",
   "name": "python",
   "nbconvert_exporter": "python",
   "pygments_lexer": "ipython3",
   "version": "3.9.12"
  },
  "orig_nbformat": 4,
  "vscode": {
   "interpreter": {
    "hash": "e3959f86467369a69e2ca2d0e55f82e2aeae31d60f101d47d0664eee6a259f95"
   }
  }
 },
 "nbformat": 4,
 "nbformat_minor": 2
}
